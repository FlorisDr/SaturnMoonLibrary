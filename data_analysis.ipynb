{
 "cells": [
  {
   "cell_type": "markdown",
   "metadata": {},
   "source": [
    "## Data Analysis"
   ]
  },
  {
   "cell_type": "code",
   "execution_count": 1,
   "metadata": {},
   "outputs": [],
   "source": [
    "#import statements\n",
    "from mpl_toolkits.mplot3d import Axes3D\n",
    "import matplotlib.pyplot as plt\n",
    "import matplotlib.animation as anim\n",
    "from scipy.stats import gaussian_kde\n",
    "import numpy as np\n",
    "\n",
    "import SaturnMoonLibrary as sml\n",
    "import SaturnMoonLibrary.SaturnMoonSimulation as sms\n",
    "import SaturnMoonLibrary.SaturnMoonAnalysis as sma\n",
    "\n",
    "%matplotlib qt"
   ]
  },
  {
   "cell_type": "markdown",
   "metadata": {},
   "source": [
    "### Loading datasets"
   ]
  },
  {
   "cell_type": "code",
   "execution_count": 2,
   "metadata": {},
   "outputs": [
    {
     "name": "stdout",
     "output_type": "stream",
     "text": [
      "[ 6.77940276e+04  2.85542848e+05  3.74743375e+03 ... -1.61011015e+04\n",
      " -5.01250259e+03  6.54302186e-01]\n"
     ]
    }
   ],
   "source": [
    "# Example usage\n",
    "#filepath = 'SaturnModelDatabase/simulation_data/simulation 2025-01-06_17-14-48.bin' # good for 2d and 3d\n",
    "#filepath = 'SaturnModelDatabase/simulation_data/simulation 2025-01-11_16-54-17.bin'# good for centered plots #small: 2025-01-11_00-13-15, big: 2025-01-11_16-54-17\n",
    "#filepath = 'SaturnModelDatabase/simulation_data/simulation 2025-01-13_10-42-45.bin ' # good for falling z plot\n",
    "#filepath = 'SaturnModelDatabase/simulation_data/simulation 2025-02-04_10-51-24.bin ' # Same but without ring potential\n",
    "# filepath = 'SaturnModelDatabase/simulation_data/simulation 2025-01-11_00-13-15.bin' #good for waves\n",
    "#filepath = 'SaturnModelDatabase/simulation_data/simulation 2025-02-07_12-28-44.bin' #good for collision analysis (higher saved modularity (mod 32))\n",
    "#filepath = 'SaturnModelDatabase/simulation_data/simulation 2025-02-07_12-45-06.bin' #good for collision analysis (higher saved modularity (mod 32) and twice the timesteps) \n",
    "#filepath = 'SaturnModelDatabase/simulation_data/simulation 2025-02-07_19-10-12.bin' #good for collision analysis (higher saved modularity (mod )) (10x timesteps)\n",
    "filepath = 'SaturnModelDatabase/simulation_data/simulation 2025-02-07_20-31-49.bin' # Final Run\n",
    "#filepath = 'SaturnModelDatabase/simulation_data/simulation 2025-02-07_21-24-12.bin' # Final Run mini\n",
    "\n",
    "dataset = sma.Dataset(filepath)\n"
   ]
  },
  {
   "cell_type": "markdown",
   "metadata": {},
   "source": [
    "### Animations"
   ]
  },
  {
   "cell_type": "code",
   "execution_count": null,
   "metadata": {},
   "outputs": [],
   "source": [
    "anim_manager = sma.AnimationManager(dataset)\n",
    "\n",
    "# 2D Animation\n",
    "#anim_manager.plot_2d(n_farthest_filter = 5)\n",
    "\n",
    "# 3D Animation\n",
    "#anim_manager.plot_3d()\n",
    "\n",
    "# Centered Animation\n",
    "# For a plot centered around \"Daphnis\" with a square bounds of 1e8 meters\n",
    "#anim_manager.plot_centered(moon_name=\"Pan\", width=1e7, trail_length=100, interval=1) # To not get dissy one best uses something with low dt and 1 save modularity\n",
    "\n",
    "# 3D version of Centered\n",
    "#anim_manager.plot_centered_3d(moon_name=\"Daphnis\", width=4e7, trail_length=100, interval=1) # To not get dissy one best uses something with low dt and 1 save modularity\n",
    "\n",
    "# Polar plot\n",
    "#anim_manager.plot_polar_cartesian(r_max =1.5e8, r_min = 0.7e8,theta_max=np.pi*2 ,frame_time=10, trail_length=100, interval=1, heatmap=False)\n",
    "\n",
    "# Cylindrical plot\n",
    "#anim_manager.plot_polar_cartesian_with_z(r_max =1.1e8, r_min = 0, z_max=1e5 , z_min=-1e5,elevation=20,azimuth=90, frame_time=10, trail_length=100, interval=1)"
   ]
  },
  {
   "cell_type": "markdown",
   "metadata": {},
   "source": [
    "### Energy plots"
   ]
  },
  {
   "cell_type": "code",
   "execution_count": 6,
   "metadata": {},
   "outputs": [],
   "source": [
    "energy=sma.EnergyAnalysis(dataset)\n",
    "energy.plot_energy(scale=\"relative\")"
   ]
  },
  {
   "cell_type": "markdown",
   "metadata": {},
   "source": [
    "Note the code below was run on Koens Device and so it concerns his simultion log files"
   ]
  },
  {
   "cell_type": "code",
   "execution_count": null,
   "metadata": {},
   "outputs": [],
   "source": [
    "filenames=['.\\\\SaturnModelDatabase\\\\simulation_data\\\\simulation 2025-02-06_14-12-01.bin', '.\\\\SaturnModelDatabase\\\\simulation_data\\\\simulation 2025-02-06_14-12-17.bin', '.\\\\SaturnModelDatabase\\\\simulation_data\\\\simulation 2025-02-06_14-12-29.bin', '.\\\\SaturnModelDatabase\\\\simulation_data\\\\simulation 2025-02-06_14-12-44.bin', '.\\\\SaturnModelDatabase\\\\simulation_data\\\\simulation 2025-02-06_14-12-54.bin'] # dts increasing in order of 2 leapfrog\n",
    "# filenames=['.\\\\SaturnModelDatabase\\\\simulation_data\\\\simulation 2025-02-06_17-27-53.bin', '.\\\\SaturnModelDatabase\\\\simulation_data\\\\simulation 2025-02-06_17-28-37.bin', '.\\\\SaturnModelDatabase\\\\simulation_data\\\\simulation 2025-02-06_17-29-06.bin', '.\\\\SaturnModelDatabase\\\\simulation_data\\\\simulation 2025-02-06_17-29-24.bin', '.\\\\SaturnModelDatabase\\\\simulation_data\\\\simulation 2025-02-06_17-29-39.bin'] #same but Y4\n",
    "filenames=['.\\\\SaturnModelDatabase\\\\simulation_data\\\\simulation 2025-02-06_20-01-03.bin', '.\\\\SaturnModelDatabase\\\\simulation_data\\\\simulation 2025-02-06_20-03-25.bin', '.\\\\SaturnModelDatabase\\\\simulation_data\\\\simulation 2025-02-06_20-04-56.bin', '.\\\\SaturnModelDatabase\\\\simulation_data\\\\simulation 2025-02-06_20-05-50.bin', '.\\\\SaturnModelDatabase\\\\simulation_data\\\\simulation 2025-02-06_20-06-32.bin'] #same but Y8\n",
    "# filenames=['.\\\\SaturnModelDatabase\\\\simulation_data\\\\simulation 2025-02-06_20-40-52.bin', '.\\\\SaturnModelDatabase\\\\simulation_data\\\\simulation 2025-02-06_20-41-52.bin', '.\\\\SaturnModelDatabase\\\\simulation_data\\\\simulation 2025-02-06_20-42-46.bin', '.\\\\SaturnModelDatabase\\\\simulation_data\\\\simulation 2025-02-06_20-43-15.bin', '.\\\\SaturnModelDatabase\\\\simulation_data\\\\simulation 2025-02-06_20-43-35.bin'] #Y6\n",
    "datasets= [sma.Dataset(filename) for filename in filenames]\n",
    "# print(\"energy\")\n",
    "energies= [sma.EnergyAnalysis(dataset) for dataset in datasets]\n",
    "plt.figure()\n",
    "\n",
    "# plt.xlim(0,300)\n",
    "plots   = [energy.plot_energy(scale=\"relative\",Label=\"dt=\"+str(energy.dataset.header[\"dt\"])+\"s\") for energy in energies]\n",
    "\n",
    "plt.show()\n",
    "plt.legend()\n",
    "# plt.savefig(f\"Energy_Y6.pdf\")\n",
    "print([dataset.header[\"Numerical Integrator\"] for dataset in datasets])\n",
    "print(datasets[-1].positions[-1,:,0])"
   ]
  },
  {
   "cell_type": "code",
   "execution_count": null,
   "metadata": {},
   "outputs": [],
   "source": [
    "filenames1=['.\\\\SaturnModelDatabase\\\\simulation_data\\\\simulation 2025-02-06_14-12-01.bin', '.\\\\SaturnModelDatabase\\\\simulation_data\\\\simulation 2025-02-06_14-12-17.bin', '.\\\\SaturnModelDatabase\\\\simulation_data\\\\simulation 2025-02-06_14-12-29.bin', '.\\\\SaturnModelDatabase\\\\simulation_data\\\\simulation 2025-02-06_14-12-44.bin', '.\\\\SaturnModelDatabase\\\\simulation_data\\\\simulation 2025-02-06_14-12-54.bin'] # dts increasing in order of 2 leapfrog\n",
    "filenames2=['.\\\\SaturnModelDatabase\\\\simulation_data\\\\simulation 2025-02-06_17-27-53.bin', '.\\\\SaturnModelDatabase\\\\simulation_data\\\\simulation 2025-02-06_17-28-37.bin', '.\\\\SaturnModelDatabase\\\\simulation_data\\\\simulation 2025-02-06_17-29-06.bin', '.\\\\SaturnModelDatabase\\\\simulation_data\\\\simulation 2025-02-06_17-29-24.bin', '.\\\\SaturnModelDatabase\\\\simulation_data\\\\simulation 2025-02-06_17-29-39.bin'] #same but Y4\n",
    "filenames3=['.\\\\SaturnModelDatabase\\\\simulation_data\\\\simulation 2025-02-06_20-01-03.bin', '.\\\\SaturnModelDatabase\\\\simulation_data\\\\simulation 2025-02-06_20-03-25.bin', '.\\\\SaturnModelDatabase\\\\simulation_data\\\\simulation 2025-02-06_20-04-56.bin', '.\\\\SaturnModelDatabase\\\\simulation_data\\\\simulation 2025-02-06_20-05-50.bin', '.\\\\SaturnModelDatabase\\\\simulation_data\\\\simulation 2025-02-06_20-06-32.bin'] #same but Y8\n",
    "filenames4=['.\\\\SaturnModelDatabase\\\\simulation_data\\\\simulation 2025-02-06_20-40-52.bin', '.\\\\SaturnModelDatabase\\\\simulation_data\\\\simulation 2025-02-06_20-41-52.bin', '.\\\\SaturnModelDatabase\\\\simulation_data\\\\simulation 2025-02-06_20-42-46.bin', '.\\\\SaturnModelDatabase\\\\simulation_data\\\\simulation 2025-02-06_20-43-15.bin', '.\\\\SaturnModelDatabase\\\\simulation_data\\\\simulation 2025-02-06_20-43-35.bin'] #Y6\n",
    "filenames=filenames1+filenames2+filenames3+filenames4\n",
    "datasets= [sma.Dataset(filename) for filename in filenames]\n",
    "print(\"energy\")\n",
    "energies= [sma.EnergyAnalysis(dataset) for dataset in datasets]\n",
    "plt.figure()\n",
    "plots   = [energy.plot_energy(scale=\"absolute\",Label=energy.dataset.header[\"dt\"]) for energy in energies]\n",
    "plt.show()\n",
    "plt.legend()"
   ]
  },
  {
   "cell_type": "code",
   "execution_count": null,
   "metadata": {},
   "outputs": [],
   "source": [
    "dat_index1=1\n",
    "dat_index2=2\n",
    "moon_index=1\n",
    "dt=datasets[0].header[\"dt\"]*(datasets[0].header[\"Saved Points Modularity\"])\n",
    "fig, (axes)= plt.subplots(5,5)\n",
    "for dat_index1 in range(0,5):\n",
    "    for dat_index2 in range(0,5):\n",
    "        axes[dat_index1][dat_index2].plot(dt/60/60/24*np.arange(0,len(datasets[0].positions)),np.sqrt(np.sum((datasets[dat_index1].positions[:,moon_index,:3]-datasets[dat_index2].positions[:,moon_index,:3])**2,axis=-1)),label=datasets[dat_index2].header[\"dt\"])\n",
    "        # axes[dat_index1][dat_index2].set_xlim(0,400)\n",
    "        axes[dat_index1][dat_index2].set_title(f\"{dat_index2}-{dat_index1}\")\n",
    "plt.legend()"
   ]
  },
  {
   "cell_type": "code",
   "execution_count": null,
   "metadata": {},
   "outputs": [],
   "source": [
    "dat_index1=1\n",
    "dat_index2=2\n",
    "moon_index=2\n",
    "fig, (axes)= plt.subplots(5,1)\n",
    "fig.suptitle(datasets[dat_index1].moons[moon_index].name)\n",
    "\n",
    "for dat_index1 in range(0,5):\n",
    "    axes[dat_index1].plot(dt/60/60/24*np.arange(0,len(datasets[0].positions)),datasets[dat_index1].positions[:,moon_index,0])"
   ]
  },
  {
   "cell_type": "code",
   "execution_count": null,
   "metadata": {},
   "outputs": [],
   "source": [
    "dat_index1=0\n",
    "dat_index2=4\n",
    "moon_index=2\n",
    "plt.figure()\n",
    "dimension_index=0\n",
    "dt=datasets[0].header[\"dt\"]*(datasets[0].header[\"Saved Points Modularity\"])\n",
    "datasets[dat_index1].moons[moon_index].calculate_orbital_elements()[0]\n",
    "a=np.average(datasets[0].moons[moon_index].calculate_orbital_elements()[0]['semimajor_axis'])\n",
    "plt.plot(dt/60/60/24*np.arange(0,len(datasets[0].positions)),(datasets[dat_index1].positions[:,moon_index,dimension_index]-datasets[dat_index2].positions[:,moon_index,dimension_index])/a)\n",
    "plt.ylabel(\"relative difference in x coordinate\")\n",
    "plt.xlabel(\"time (days)\")\n",
    "# plt.xlim(0,100)\n",
    "plt.show()\n",
    "plt.savefig(f\"{datasets[dat_index1].moons[moon_index].name}oscillations_{datasets[dat_index1].header['dt']}and{datasets[dat_index2].header['dt']}Y6.pdf\")\n",
    "print(datasets[dat_index1].moons[moon_index].name)"
   ]
  },
  {
   "cell_type": "code",
   "execution_count": null,
   "metadata": {},
   "outputs": [],
   "source": [
    "plt.plot(dt/60/60/24*np.arange(0,len(datasets[0].positions)),(datasets[dat_index1].positions[:,moon_index,0]))\n",
    "plt.plot(dt/60/60/24*np.arange(0,len(datasets[0].positions)),datasets[dat_index2].positions[:,moon_index,0])"
   ]
  },
  {
   "cell_type": "code",
   "execution_count": null,
   "metadata": {},
   "outputs": [],
   "source": [
    "dat_index1=1\n",
    "dat_index2=2\n",
    "moon_index=2\n",
    "plt.title(datasets[dat_index1].moons[moon_index].name)\n",
    "for dat_index1 in range(4,-1,-1):\n",
    "    plt.plot((datasets[dat_index1].moons[moon_index].calculate_orbital_elements()[0]['period'])/60/60/24)\n",
    "    print(np.average(datasets[dat_index1].moons[moon_index].calculate_orbital_elements()[0]['period'])/60/60/24)"
   ]
  },
  {
   "cell_type": "code",
   "execution_count": null,
   "metadata": {},
   "outputs": [],
   "source": [
    "datasets[dat_index1].moons[moon_index].calculate_orbital_elements()"
   ]
  },
  {
   "cell_type": "markdown",
   "metadata": {},
   "source": [
    "### J2 vs no J2 ring vs No ring"
   ]
  },
  {
   "cell_type": "code",
   "execution_count": null,
   "metadata": {},
   "outputs": [],
   "source": [
    "filenames=[\"simulation 2025-02-07_10-56-50.bin\",\"simulation 2025-02-07_11-02-10.bin\",\"simulation 2025-02-07_10-45-58.bin\",\"simulation 2025-02-07_10-32-18.bin\"]\n",
    "filenames=[\"simulation 2025-02-07_19-45-27.bin\",\"simulation 2025-02-07_19-52-31.bin\",\"simulation 2025-02-07_19-59-21.bin\",\"simulation 2025-02-07_20-11-12.bin\"] #accidently left collisions on and not linearly placed\n",
    "filepaths=[\".\\\\SaturnModelDatabase\\\\simulation_data\\\\\"+name for name in filenames]\n",
    "filepaths=['.\\\\SaturnModelDatabase\\\\simulation_data\\\\simulation 2025-02-07_20-36-20.bin', '.\\\\SaturnModelDatabase\\\\simulation_data\\\\simulation 2025-02-07_20-44-17.bin', '.\\\\SaturnModelDatabase\\\\simulation_data\\\\simulation 2025-02-07_20-54-38.bin', '.\\\\SaturnModelDatabase\\\\simulation_data\\\\simulation 2025-02-07_21-04-05.bin']\n",
    "\n",
    "datasets= [sma.Dataset(filename) for filename in filepaths]\n",
    "energies= [sma.EnergyAnalysis(dataset) for dataset in datasets]\n",
    "plt.figure()\n",
    "plots   = [energy.plot_energy(scale=\"absolute\",Label=str(energy.dataset.header[\"J2\"])+energy.dataset.header[\"Ring Folder\"]) for energy in energies]\n",
    "plt.show()\n",
    "plt.legend()"
   ]
  },
  {
   "cell_type": "code",
   "execution_count": null,
   "metadata": {},
   "outputs": [],
   "source": [
    "fig = plt.figure(figsize=(12, 10))\n",
    "\n",
    "# Create 2x2 subplots with 3D axes\n",
    "axes = [fig.add_subplot(2, 2, i + 1) for i in range(4)]\n",
    "\n",
    "fig.suptitle(\"Mosaic Plot of Timesteps\", fontsize=16)\n",
    "\n",
    "# Loop over axes and timesteps and call the plot function\n",
    "plt.sca(axes[0])\n",
    "energies[0].plot_energy()\n",
    "plt.title(f\"J2={energies[0].dataset.header['J2']},{'Ring' if energies[0].dataset.header['Ring Folder']=='ring_data_2025-01-09' else 'No Ring'}\")\n",
    "plt.sca(axes[1])\n",
    "energies[1].plot_energy()\n",
    "plt.title(f\"J2={energies[1].dataset.header['J2']},{'Ring' if energies[1].dataset.header['Ring Folder']=='ring_data_2025-01-09' else 'No Ring'}\")\n",
    "plt.sca(axes[2])\n",
    "energies[2].plot_energy()\n",
    "plt.title(f\"J2={energies[2].dataset.header['J2']},{'Ring' if energies[2].dataset.header['Ring Folder']=='ring_data_2025-01-09' else 'No Ring'}\")\n",
    "plt.sca(axes[3])\n",
    "energies[3].plot_energy()\n",
    "plt.title(f\"J2={energies[3].dataset.header['J2']},{'Ring' if energies[3].dataset.header['Ring Folder']=='ring_data_2025-01-09' else 'No Ring'}\")\n",
    "plt.tight_layout(rect=[0, 0, 1, 0.95])  # Adjust layout to fit title\n",
    "plt.show()"
   ]
  },
  {
   "cell_type": "code",
   "execution_count": null,
   "metadata": {},
   "outputs": [],
   "source": [
    "datasets[dataset_index2].moons[0].calculate_orbital_elements()[0].keys()"
   ]
  },
  {
   "cell_type": "code",
   "execution_count": null,
   "metadata": {},
   "outputs": [],
   "source": [
    "for i in range(4):\n",
    "    print((i,datasets[i].header[\"J2\"],datasets[i].header[\"Ring Folder\"]))"
   ]
  },
  {
   "cell_type": "code",
   "execution_count": null,
   "metadata": {},
   "outputs": [],
   "source": [
    "dataset_index1=1\n",
    "dataset_index2=3\n",
    "orbital_elements=['inclination', 'ascending_node_longitude', 'argument_of_periapsis', 'eccentricity', 'semimajor_axis', 'period']\n",
    "orbital_element=orbital_elements[0]\n",
    "a1=[(datasets[dataset_index1].moons[moon_index].name,np.average(datasets[dataset_index1].moons[moon_index].calculate_orbital_elements()[0][orbital_element]),np.std(datasets[dataset_index1].moons[moon_index].calculate_orbital_elements()[0][orbital_element])) for moon_index in range(1,20)]\n",
    "a2=[(datasets[dataset_index2].moons[moon_index].name,np.average(datasets[dataset_index2].moons[moon_index].calculate_orbital_elements()[0][orbital_element]),np.std(datasets[dataset_index2].moons[moon_index].calculate_orbital_elements()[0][orbital_element])) for moon_index in range(1,20)]\n",
    "difference=[(el1[0],el1[1]-el2[1],el1[2]-el2[2]) for el1,el2 in zip(a1,a2)]\n",
    "rel_dif   =[(el[0],el[1]/el1[1],el[2]) for el,el1 in zip(difference,a1)]\n",
    "print(a1)\n",
    "print(a2)\n",
    "print(difference)\n",
    "print(rel_dif)"
   ]
  },
  {
   "cell_type": "code",
   "execution_count": null,
   "metadata": {},
   "outputs": [],
   "source": [
    "print(orbital_element)\n",
    "tester=difference.copy()\n",
    "tester.sort(key=lambda x: abs(x[1]))\n",
    "tester\n"
   ]
  },
  {
   "cell_type": "code",
   "execution_count": null,
   "metadata": {},
   "outputs": [],
   "source": [
    "a1=[(datasets[dataset_index1].test_particles[moon_index].name,np.average(datasets[dataset_index1].test_particles[moon_index].calculate_orbital_elements()[0][orbital_element]),np.std(datasets[dataset_index1].test_particles[moon_index].calculate_orbital_elements()[0][orbital_element])) for moon_index in range(0,10)]\n",
    "a2=[(datasets[dataset_index2].test_particles[moon_index].name,np.average(datasets[dataset_index2].test_particles[moon_index].calculate_orbital_elements()[0][orbital_element]),np.std(datasets[dataset_index2].test_particles[moon_index].calculate_orbital_elements()[0][orbital_element])) for moon_index in range(0,10)]\n",
    "difference=[(el1[0],el1[1]-el2[1],el1[2]-el2[2]) for el1,el2 in zip(a1,a2)]\n",
    "rel_dif   =[(el[0],el[1]/el1[1],el[2]) for el,el1 in zip(difference,a1)]\n",
    "print(a1)\n",
    "print(a2)\n",
    "print(difference)\n",
    "print(rel_dif)"
   ]
  },
  {
   "cell_type": "code",
   "execution_count": null,
   "metadata": {},
   "outputs": [],
   "source": [
    "print(orbital_element)\n",
    "tester=difference.copy()\n",
    "tester.sort(key=lambda x: abs(x[1]))\n",
    "tester"
   ]
  },
  {
   "cell_type": "code",
   "execution_count": null,
   "metadata": {},
   "outputs": [],
   "source": [
    "moon_index=8\n",
    "orbital_element=orbital_elements[5]\n",
    "dt=datasets[0].header[\"dt\"]*(datasets[0].header[\"Saved Points Modularity\"])\n",
    "plt.plot(dt/60/60/24*np.arange(0,len(datasets[0].positions)),datasets[dataset_index1].moons[moon_index].calculate_orbital_elements()[0][orbital_element])\n",
    "plt.plot(dt/60/60/24*np.arange(0,len(datasets[0].positions)),datasets[dataset_index2].moons[moon_index].calculate_orbital_elements()[0][orbital_element])"
   ]
  },
  {
   "cell_type": "markdown",
   "metadata": {},
   "source": [
    "### Collision Analysis"
   ]
  },
  {
   "cell_type": "code",
   "execution_count": 3,
   "metadata": {},
   "outputs": [],
   "source": [
    "# Only works for the most recent datasets. collison logic has been slightly altered\n",
    "collisions=sma.CollisionAnalysis(dataset)\n",
    "collisions.collisions_count()\n",
    "collisions.plot_radial_histogram(bins = 100, r_min = 1.32e8, r_max = 1.42e8)"
   ]
  },
  {
   "cell_type": "markdown",
   "metadata": {},
   "source": [
    "### Wave Analysis\n",
    "wavelengths:"
   ]
  },
  {
   "cell_type": "code",
   "execution_count": null,
   "metadata": {},
   "outputs": [],
   "source": [
    "# Wavelengths\n",
    "wave_analysis = sma.WaveAnalysis(dataset, bins=20, plot_type=\"2d\")\n",
    "\n",
    "# Perform analysis at timestep 0\n",
    "#wave_analysis.azimuthal_bin_analysis(i=20,r_min = 1.1e8,r_max=1.4e8, z_max=4000, z_min=-4000)\n",
    "\n",
    "# # Compute wavelengths in a specific range\n",
    "# for j in [1,20,50,60]:\n",
    "#     result = wave_analysis.compute_wavelength_2d(i=j, r_min=1.1e8, r_max=1.4e8)\n",
    "#     print(result)\n",
    "\n",
    "\n",
    "# # # Plot the wavelength over timed\n",
    "wave_analysis.plot_wavelength_over_time(r_min=1e8, r_max=1.4e8, bandwidth=0.001, xlim_low=1)\n"
   ]
  },
  {
   "cell_type": "code",
   "execution_count": 99,
   "metadata": {},
   "outputs": [
    {
     "data": {
      "text/plain": [
       "(array([1.10000000e+08, 1.10303030e+08, 1.10606061e+08, 1.10909091e+08,\n",
       "        1.11212121e+08, 1.11515152e+08, 1.11818182e+08, 1.12121212e+08,\n",
       "        1.12424242e+08, 1.12727273e+08, 1.13030303e+08, 1.13333333e+08,\n",
       "        1.13636364e+08, 1.13939394e+08, 1.14242424e+08, 1.14545455e+08,\n",
       "        1.14848485e+08, 1.15151515e+08, 1.15454545e+08, 1.15757576e+08,\n",
       "        1.16060606e+08, 1.16363636e+08, 1.16666667e+08, 1.16969697e+08,\n",
       "        1.17272727e+08, 1.17575758e+08, 1.17878788e+08, 1.18181818e+08,\n",
       "        1.18484848e+08, 1.18787879e+08, 1.19090909e+08, 1.19393939e+08,\n",
       "        1.19696970e+08, 1.20000000e+08, 1.20303030e+08, 1.20606061e+08,\n",
       "        1.20909091e+08, 1.21212121e+08, 1.21515152e+08, 1.21818182e+08,\n",
       "        1.22121212e+08, 1.22424242e+08, 1.22727273e+08, 1.23030303e+08,\n",
       "        1.23333333e+08, 1.23636364e+08, 1.23939394e+08, 1.24242424e+08,\n",
       "        1.24545455e+08, 1.24848485e+08, 1.25151515e+08, 1.25454545e+08,\n",
       "        1.25757576e+08, 1.26060606e+08, 1.26363636e+08, 1.26666667e+08,\n",
       "        1.26969697e+08, 1.27272727e+08, 1.27575758e+08, 1.27878788e+08,\n",
       "        1.28181818e+08, 1.28484848e+08, 1.28787879e+08, 1.29090909e+08,\n",
       "        1.29393939e+08, 1.29696970e+08, 1.30000000e+08, 1.30303030e+08,\n",
       "        1.30606061e+08, 1.30909091e+08, 1.31212121e+08, 1.31515152e+08,\n",
       "        1.31818182e+08, 1.32121212e+08, 1.32424242e+08, 1.32727273e+08,\n",
       "        1.33030303e+08, 1.33333333e+08, 1.33636364e+08, 1.33939394e+08,\n",
       "        1.34242424e+08, 1.34545455e+08, 1.34848485e+08, 1.35151515e+08,\n",
       "        1.35454545e+08, 1.35757576e+08, 1.36060606e+08, 1.36363636e+08,\n",
       "        1.36666667e+08, 1.36969697e+08, 1.37272727e+08, 1.37575758e+08,\n",
       "        1.37878788e+08, 1.38181818e+08, 1.38484848e+08, 1.38787879e+08,\n",
       "        1.39090909e+08, 1.39393939e+08, 1.39696970e+08, 1.40000000e+08]),\n",
       " array([2.05648458e-08, 2.49823654e-08, 2.80971290e-08, 4.08009251e-08,\n",
       "        1.70877347e-08, 2.51644994e-08, 4.64837643e-08, 1.85647260e-08,\n",
       "        3.01002190e-08, 2.81952725e-08, 4.14704174e-08, 4.95834679e-08,\n",
       "        1.98381521e-08, 2.96346418e-08, 2.57763524e-08, 2.18039870e-08,\n",
       "        3.63217342e-08, 2.61783931e-08, 5.17642798e-08, 3.17810815e-08,\n",
       "        5.12029144e-08, 2.76716299e-08, 3.86896651e-08, 3.73625185e-08,\n",
       "        1.61952939e-08, 3.51256175e-08, 2.68972870e-08, 4.55404121e-08,\n",
       "        1.40639751e-08, 4.49922625e-08, 3.56706372e-08, 4.24139562e-08,\n",
       "        1.85370849e-08, 5.76899486e-08, 2.44611669e-08, 3.67998715e-08,\n",
       "        4.17932076e-08, 3.63676403e-08, 2.64002601e-08, 5.15839286e-08,\n",
       "        2.99956117e-08, 4.48825144e-08, 2.78842127e-08, 2.77479597e-08,\n",
       "        2.91106394e-08, 5.19292477e-08, 3.21024790e-08, 4.06527697e-08,\n",
       "        3.27752299e-08, 3.77487829e-08, 3.37786097e-08, 5.17470024e-08,\n",
       "        1.25073606e-08, 3.64565798e-08, 4.33032301e-08, 1.30095872e-08,\n",
       "        4.31080818e-08, 4.52719131e-08, 1.83053029e-08, 4.63989149e-08,\n",
       "        3.22104127e-08, 5.61368773e-08, 2.65277796e-08, 3.42404163e-08,\n",
       "        5.69082376e-08, 1.59132115e-08, 4.72157178e-08, 4.30939868e-08,\n",
       "        4.41372268e-08, 2.75962199e-08, 3.16093652e-08, 5.29998519e-08,\n",
       "        1.33827065e-08, 4.58317840e-08, 4.17832367e-08, 2.64846432e-08,\n",
       "        1.29823286e-08, 5.06770567e-08, 5.63885543e-08, 1.33482608e-08,\n",
       "        3.17714851e-08, 3.49236087e-08, 4.45789698e-08, 3.11404362e-08,\n",
       "        3.57176280e-08, 3.67030430e-08, 6.04233881e-08, 1.56410395e-08,\n",
       "        3.34403633e-08, 3.92463476e-08, 4.11258658e-08, 3.77715374e-08,\n",
       "        3.92253319e-08, 5.09367397e-08, 3.69609587e-08, 1.79902286e-08,\n",
       "        5.47446422e-08, 3.46042776e-08, 3.08573691e-08, 5.62535147e-09]))"
      ]
     },
     "execution_count": 99,
     "metadata": {},
     "output_type": "execute_result"
    }
   ],
   "source": [
    "# Perform analysis at timestep 0\n",
    "wave_analysis = sma.WaveAnalysis(dataset, bins=20, plot_type=\"2d\")\n",
    "wave_analysis.azimuthal_bin_analysis_with_kde(i=50,r_min = 1.1e8,r_max=1.4e8, bandwidth=0.001)"
   ]
  },
  {
   "cell_type": "code",
   "execution_count": 102,
   "metadata": {},
   "outputs": [
    {
     "name": "stdout",
     "output_type": "stream",
     "text": [
      "Average distance between peaks: 1494949.494949495\n",
      "Number of peaks found: 21\n"
     ]
    }
   ],
   "source": [
    "\n",
    "# Initialize the WaveAnalysis class with your dataset\n",
    "wave_analysis = sma.WaveAnalysis(dataset, bins=20, plot_type=\"2d\")\n",
    "\n",
    "# Perform azimuthal bin analysis with KDE\n",
    "r_grid, kde_values = wave_analysis.azimuthal_bin_analysis_with_kde(i=10, r_min=1.1e8, r_max=1.5e8, z_min=3600, z_max=3800, bandwidth=0.01)\n",
    "\n",
    "# Find peaks in the KDE and calculate the average distance between peaks\n",
    "if r_grid is not None and kde_values is not None:\n",
    "    peak_analysis = wave_analysis.find_kde_peaks(r_grid, kde_values)\n",
    "    print(\"Average distance between peaks:\", peak_analysis[\"average_peak_distance\"])\n",
    "    print(\"Number of peaks found:\", peak_analysis[\"num_peaks\"])\n"
   ]
  },
  {
   "cell_type": "code",
   "execution_count": 7,
   "metadata": {},
   "outputs": [],
   "source": [
    "# Animations\n",
    "wave_analysis = sma.WaveAnalysis(dataset, bins=20, plot_type=\"2d\")\n",
    "\n",
    "# Perform analysis at timestep 0\n",
    "wave_analysis.azimuthal_bin_analysis(i=0)\n",
    "\n",
    "# Animate and ensure it runs smoothly\n",
    "animation_2d, animation_3d = wave_analysis.animate()\n"
   ]
  },
  {
   "cell_type": "markdown",
   "metadata": {},
   "source": [
    "wavestills:"
   ]
  },
  {
   "cell_type": "code",
   "execution_count": null,
   "metadata": {},
   "outputs": [],
   "source": [
    "wave_stills = sma.WaveStills(dataset)\n",
    "wave_stills.plot_polar_cartesian_still(timestep=10, r_min = 0.7e8, r_max=1.4e8)\n",
    "#wave_stills.plot_polar_cartesian_with_z_still(timestep=10, r_min = 0.7e8, r_max=1.4e8,z_max=0.2e5,z_min =-0.2e5, azimuth = 90)"
   ]
  },
  {
   "cell_type": "code",
   "execution_count": 3,
   "metadata": {},
   "outputs": [],
   "source": [
    "timesteps = [15,30,45,60]  # Choose 4 timesteps\n",
    "wave_stills = sma.WaveStills(dataset)\n",
    "wave_stills.plot_mosaic(wave_stills.plot_polar_cartesian_still, timesteps, r_min = 0.7e8, r_max=1.4e8, ms = 0.05)\n",
    "#wave_stills.plot_mosaic_3d(wave_stills.plot_polar_cartesian_with_z_still, timesteps, r_min = 0.7e8, r_max=1.4e8, elevation=0, azimuth=-90,z_max=0.1e5,z_min =-0.1e5)\n"
   ]
  },
  {
   "cell_type": "markdown",
   "metadata": {},
   "source": [
    "WaveDensities:"
   ]
  },
  {
   "cell_type": "code",
   "execution_count": null,
   "metadata": {},
   "outputs": [],
   "source": [
    "wave_density = sma.WaveDensity(dataset)  # Replace my_dataset with your actual dataset\n",
    "#wave_density.plot_radial_density(timestep=120)\n",
    "# timesteps = [0, 10, 20, 30, 40, 50]  # List of timesteps to analyze\n",
    "# wave_density.plot_mosaic(timesteps)\n",
    "wave_density.plot_kde_density(timestep=50, bandwidth = 0.2e6)\n",
    "\n"
   ]
  },
  {
   "cell_type": "code",
   "execution_count": null,
   "metadata": {},
   "outputs": [],
   "source": [
    "# wave_density = sma.WaveDensity(dataset)  # Replace my_dataset with your actual dataset\n",
    "# #wave_density.plot_mosaic([10, 20], wave_density.plot_kde_density, bandwidth=5e6)\n",
    "# wave_density.plot_mosaic([10, 20], wave_density.plot_radial_density, bins=40)\n"
   ]
  }
 ],
 "metadata": {
  "kernelspec": {
   "display_name": "Python 3",
   "language": "python",
   "name": "python3"
  },
  "language_info": {
   "codemirror_mode": {
    "name": "ipython",
    "version": 3
   },
   "file_extension": ".py",
   "mimetype": "text/x-python",
   "name": "python",
   "nbconvert_exporter": "python",
   "pygments_lexer": "ipython3",
   "version": "3.11.0"
  }
 },
 "nbformat": 4,
 "nbformat_minor": 2
}
