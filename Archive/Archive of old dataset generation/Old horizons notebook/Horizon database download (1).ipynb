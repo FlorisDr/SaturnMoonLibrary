{
 "cells": [
  {
   "cell_type": "code",
   "execution_count": 1,
   "metadata": {},
   "outputs": [
    {
     "name": "stdout",
     "output_type": "stream",
     "text": [
      "[2460632.5]\n"
     ]
    }
   ],
   "source": [
    "from astropy.time import Time\n",
    "import astropy.units as u\n",
    "import re\n",
    "timesteps=10**5\n",
    "steplength=600*u.s\n",
    "t_tot=timesteps*steplength\n",
    "jd = Time('2024-11-18').jd  # Converts to Julian date\n",
    "epoch = [jd]\n",
    "print(epoch)"
   ]
  },
  {
   "cell_type": "code",
   "execution_count": 110,
   "metadata": {},
   "outputs": [],
   "source": [
    "import astropy.constants as c\n",
    "G=c.G"
   ]
  },
  {
   "cell_type": "code",
   "execution_count": 122,
   "metadata": {},
   "outputs": [
    {
     "data": {
      "text/latex": [
       "$\\mathrm{d}$"
      ],
      "text/plain": [
       "Unit(\"d\")"
      ]
     },
     "execution_count": 122,
     "metadata": {},
     "output_type": "execute_result"
    }
   ],
   "source": [
    "u.day"
   ]
  },
  {
   "cell_type": "code",
   "execution_count": null,
   "metadata": {},
   "outputs": [
    {
     "data": {
      "text/latex": [
       "$6.6743 \\times 10^{-11} \\; \\mathrm{\\frac{m^{3}}{kg\\,km\\,s^{2}}}$"
      ],
      "text/plain": [
       "<Quantity 6.6743e-11 m3 / (kg km s2)>"
      ]
     },
     "execution_count": 119,
     "metadata": {},
     "output_type": "execute_result"
    }
   ],
   "source": []
  },
  {
   "cell_type": "code",
   "execution_count": 114,
   "metadata": {},
   "outputs": [
    {
     "ename": "AttributeError",
     "evalue": "'CODATA2018' object has no 'get_converter' member",
     "output_type": "error",
     "traceback": [
      "\u001b[1;31m---------------------------------------------------------------------------\u001b[0m",
      "\u001b[1;31mAttributeError\u001b[0m                            Traceback (most recent call last)",
      "\u001b[1;32m~\\AppData\\Local\\Temp\\ipykernel_27784\\2658201583.py\u001b[0m in \u001b[0;36m<cell line: 0>\u001b[1;34m()\u001b[0m\n\u001b[1;32m----> 1\u001b[1;33m \u001b[0mG\u001b[0m\u001b[1;33m.\u001b[0m\u001b[0mget_converter\u001b[0m\u001b[1;33m(\u001b[0m\u001b[0mu\u001b[0m\u001b[1;33m.\u001b[0m\u001b[0mAu\u001b[0m\u001b[1;33m**\u001b[0m\u001b[1;36m3\u001b[0m\u001b[1;33m/\u001b[0m\u001b[0mu\u001b[0m\u001b[1;33m.\u001b[0m\u001b[0mkg\u001b[0m\u001b[1;33m/\u001b[0m\u001b[0mu\u001b[0m\u001b[1;33m.\u001b[0m\u001b[0myr\u001b[0m\u001b[1;33m**\u001b[0m\u001b[1;36m2\u001b[0m\u001b[1;33m)\u001b[0m\u001b[1;33m\u001b[0m\u001b[1;33m\u001b[0m\u001b[0m\n\u001b[0m",
      "\u001b[1;32mc:\\Users\\kdvan\\AppData\\Local\\Programs\\Python\\Python311\\Lib\\site-packages\\astropy\\units\\quantity.py\u001b[0m in \u001b[0;36m__getattr__\u001b[1;34m(self, attr)\u001b[0m\n\u001b[0;32m   1093\u001b[0m         \"\"\"\n\u001b[0;32m   1094\u001b[0m         \u001b[1;32mif\u001b[0m \u001b[1;32mnot\u001b[0m \u001b[0mself\u001b[0m\u001b[1;33m.\u001b[0m\u001b[0m_include_easy_conversion_members\u001b[0m\u001b[1;33m:\u001b[0m\u001b[1;33m\u001b[0m\u001b[1;33m\u001b[0m\u001b[0m\n\u001b[1;32m-> 1095\u001b[1;33m             raise AttributeError(\n\u001b[0m\u001b[0;32m   1096\u001b[0m                 \u001b[1;34mf\"'{self.__class__.__name__}' object has no '{attr}' member\"\u001b[0m\u001b[1;33m\u001b[0m\u001b[1;33m\u001b[0m\u001b[0m\n\u001b[0;32m   1097\u001b[0m             )\n",
      "\u001b[1;31mAttributeError\u001b[0m: 'CODATA2018' object has no 'get_converter' member"
     ]
    }
   ],
   "source": [
    "G.get_converter(u.Au**3/u.kg/u.yr**2)"
   ]
  },
  {
   "cell_type": "code",
   "execution_count": 3,
   "metadata": {},
   "outputs": [
    {
     "data": {
      "text/latex": [
       "$49.603175 \\; \\mathrm{fortnight}$"
      ],
      "text/plain": [
       "<Quantity 49.6031746 fortnight>"
      ]
     },
     "execution_count": 3,
     "metadata": {},
     "output_type": "execute_result"
    }
   ],
   "source": [
    "t_tot.to(u.fortnight)"
   ]
  },
  {
   "cell_type": "code",
   "execution_count": 27,
   "metadata": {},
   "outputs": [
    {
     "ename": "NameError",
     "evalue": "name 'data' is not defined",
     "output_type": "error",
     "traceback": [
      "\u001b[1;31m---------------------------------------------------------------------------\u001b[0m",
      "\u001b[1;31mNameError\u001b[0m                                 Traceback (most recent call last)",
      "\u001b[1;32m~\\AppData\\Local\\Temp\\ipykernel_27784\\2612329659.py\u001b[0m in \u001b[0;36m<cell line: 0>\u001b[1;34m()\u001b[0m\n\u001b[1;32m----> 1\u001b[1;33m \u001b[0mre\u001b[0m\u001b[1;33m.\u001b[0m\u001b[0mfindall\u001b[0m\u001b[1;33m(\u001b[0m\u001b[1;34mr\"Mass \\(10\\^(\\d\\d?) kg\\)\\s+=\\s([\\d.]+)\"\u001b[0m\u001b[1;33m,\u001b[0m \u001b[0mdata\u001b[0m\u001b[1;33m)\u001b[0m\u001b[1;33m\u001b[0m\u001b[1;33m\u001b[0m\u001b[0m\n\u001b[0m",
      "\u001b[1;31mNameError\u001b[0m: name 'data' is not defined"
     ]
    }
   ],
   "source": [
    "re.findall(r\"Mass \\(10\\^(\\d\\d?) kg\\)\\s+=\\s([\\d.]+)\", data)"
   ]
  },
  {
   "cell_type": "code",
   "execution_count": 85,
   "metadata": {},
   "outputs": [],
   "source": [
    "t_end=Time('2024-11-18')+t_tot\n",
    "t2=t_end.jd"
   ]
  },
  {
   "cell_type": "code",
   "execution_count": 6,
   "metadata": {},
   "outputs": [
    {
     "name": "stderr",
     "output_type": "stream",
     "text": [
      "WARNING: AstropyDeprecationWarning: ``id_type``s 'majorbody' and 'id' are deprecated and replaced with ``None``, which has the same functionality. [astroquery.jplhorizons.core]\n"
     ]
    },
    {
     "name": "stdout",
     "output_type": "stream",
     "text": [
      "Position Vector (x, y, z) in AU relative to Saturn:\n",
      "         x                     y                     z          \n",
      "         AU                    AU                    AU         \n",
      "-------------------- --------------------- ---------------------\n",
      "0.001570702883799815 0.0001561856361024074 -0.000233850560439507\n",
      "\n",
      "Velocity Vector (vx, vy, vz) in AU/day relative to Saturn:\n",
      "         vx                   vy                    vz         \n",
      "       AU / d               AU / d                AU / d       \n",
      "-------------------- -------------------- ---------------------\n",
      "-0.00115709830799015 0.006409664101611489 -0.003245728980569385\n"
     ]
    }
   ],
   "source": [
    "from astroquery.jplhorizons import Horizons\n",
    "\n",
    "# Define the parameters\n",
    "# ID for Titan: 606\n",
    "# ID for Saturn as the center of the system: 6\n",
    "# Epoch in Julian date or list of calendar dates\n",
    "target_id = 602\n",
    "center_id = '500@6'  # '@6' indicates the center is Saturn\n",
    "epoch = [2460632.5]  # to calculate julian date see cell above\n",
    "# epoch=[t2]\n",
    "\n",
    "# Query the Horizons database\n",
    "titan = Horizons(id=target_id, location=center_id, epochs=epoch, id_type='id')\n",
    "\n",
    "# Get vector information\n",
    "vectors = titan.vectors()\n",
    "\n",
    "# Extract and display the position and velocity vectors\n",
    "position = vectors[['x', 'y', 'z']]  # x, y, z position relative to Saturn\n",
    "velocity = vectors[['vx', 'vy', 'vz']]  # vx, vy, vz velocity relative to Saturn\n",
    "\n",
    "\n",
    "#print statements\n",
    "print(\"Position Vector (x, y, z) in AU relative to Saturn:\")\n",
    "print(position)\n",
    "\n",
    "print(\"\\nVelocity Vector (vx, vy, vz) in AU/day relative to Saturn:\")\n",
    "print(velocity)\n",
    "\n"
   ]
  },
  {
   "cell_type": "code",
   "execution_count": 15,
   "metadata": {},
   "outputs": [
    {
     "name": "stderr",
     "output_type": "stream",
     "text": [
      "WARNING: AstropyDeprecationWarning: \"get_raw_response\" was deprecated in version 0.4.7 and will be removed in a future version. \n",
      "        Use async methods instead. [warnings]\n"
     ]
    }
   ],
   "source": [
    "response=titan.ephemerides_async(get_raw_response=True)\n"
   ]
  },
  {
   "cell_type": "code",
   "execution_count": 28,
   "metadata": {},
   "outputs": [],
   "source": [
    "a=response.text"
   ]
  },
  {
   "cell_type": "code",
   "execution_count": 39,
   "metadata": {},
   "outputs": [],
   "source": [
    "e,m=re.findall(r\"Mass \\(10\\^(\\d\\d?) kg\\)\\s+=\\s([\\d.]+)\", a)[0]\n"
   ]
  },
  {
   "cell_type": "code",
   "execution_count": 41,
   "metadata": {},
   "outputs": [
    {
     "data": {
      "text/plain": [
       "'13455.3'"
      ]
     },
     "execution_count": 41,
     "metadata": {},
     "output_type": "execute_result"
    }
   ],
   "source": [
    "m"
   ]
  },
  {
   "cell_type": "code",
   "execution_count": 43,
   "metadata": {},
   "outputs": [],
   "source": [
    "import numpy as np"
   ]
  },
  {
   "cell_type": "code",
   "execution_count": 56,
   "metadata": {},
   "outputs": [
    {
     "data": {
      "text/plain": [
       "1.3455299999999999e+23"
      ]
     },
     "execution_count": 56,
     "metadata": {},
     "output_type": "execute_result"
    }
   ],
   "source": [
    "float(m)*10**int(e)"
   ]
  },
  {
   "cell_type": "code",
   "execution_count": 18,
   "metadata": {},
   "outputs": [
    {
     "data": {
      "text/plain": [
       "27.71136069486124"
      ]
     },
     "execution_count": 18,
     "metadata": {},
     "output_type": "execute_result"
    }
   ],
   "source": [
    "import numpy as np\n",
    "h=np.cross(np.array([-0.002743182412736859, 0.007055486533775177 ,-0.003365600075106132]),np.array([-0.003004327804185247, -0.0007487602854820881, 0.000685352748411595]))\n",
    "np.degrees(np.arccos(h[2]/np.sqrt(np.sum(h**2))))"
   ]
  },
  {
   "cell_type": "code",
   "execution_count": 19,
   "metadata": {},
   "outputs": [
    {
     "data": {
      "text/plain": [
       "array([2.31546941e-06, 1.19914135e-05, 2.32509804e-05])"
      ]
     },
     "execution_count": 19,
     "metadata": {},
     "output_type": "execute_result"
    }
   ],
   "source": [
    "h"
   ]
  },
  {
   "cell_type": "code",
   "execution_count": 29,
   "metadata": {},
   "outputs": [
    {
     "data": {
      "text/html": [
       "<div><i>Table masked=True length=1</i>\n",
       "<table id=\"table2374154171024\" class=\"table-striped table-bordered table-condensed\">\n",
       "<thead><tr><th>targetname</th><th>datetime_jd</th><th>datetime_str</th><th>e</th><th>q</th><th>incl</th><th>Omega</th><th>w</th><th>Tp_jd</th><th>n</th><th>M</th><th>nu</th><th>a</th><th>Q</th><th>P</th></tr></thead>\n",
       "<thead><tr><th>---</th><th>d</th><th>---</th><th>---</th><th>AU</th><th>deg</th><th>deg</th><th>deg</th><th>d</th><th>deg / d</th><th>deg</th><th>deg</th><th>AU</th><th>AU</th><th>d</th></tr></thead>\n",
       "<thead><tr><th>str11</th><th>float64</th><th>str30</th><th>float64</th><th>float64</th><th>float64</th><th>float64</th><th>float64</th><th>float64</th><th>float64</th><th>float64</th><th>float64</th><th>float64</th><th>float64</th><th>float64</th></tr></thead>\n",
       "<tr><td>Titan (606)</td><td>2460632.5</td><td>A.D. 2024-Nov-18 00:00:00.0000</td><td>0.02873840802795882</td><td>0.007931372035583428</td><td>27.71136069486124</td><td>169.0710365656921</td><td>177.4041663964532</td><td>2460627.234047866</td><td>22.57500912933074</td><td>118.8789174954871</td><td>121.7122026841773</td><td>0.008166051351294187</td><td>0.008400730667004946</td><td>15.94683740491902</td></tr>\n",
       "</table></div>"
      ],
      "text/plain": [
       "<Table masked=True length=1>\n",
       " targetname datetime_jd ...          Q                   P        \n",
       "    ---          d      ...          AU                  d        \n",
       "   str11      float64   ...       float64             float64     \n",
       "----------- ----------- ... -------------------- -----------------\n",
       "Titan (606)   2460632.5 ... 0.008400730667004946 15.94683740491902"
      ]
     },
     "execution_count": 29,
     "metadata": {},
     "output_type": "execute_result"
    }
   ],
   "source": [
    "titan.elements()"
   ]
  },
  {
   "cell_type": "code",
   "execution_count": 3,
   "metadata": {},
   "outputs": [
    {
     "name": "stderr",
     "output_type": "stream",
     "text": [
      "WARNING: AstropyDeprecationWarning: ``id_type``s 'majorbody' and 'id' are deprecated and replaced with ``None``, which has the same functionality. [astroquery.jplhorizons.core]\n"
     ]
    },
    {
     "data": {
      "text/html": [
       "<div><i>Table masked=True length=1</i>\n",
       "<table id=\"table1546929484944\" class=\"table-striped table-bordered table-condensed\">\n",
       "<thead><tr><th>targetname</th><th>datetime_str</th><th>datetime_jd</th><th>solar_presence</th><th>interfering_body</th><th>RA</th><th>DEC</th><th>RA_app</th><th>DEC_app</th><th>RA_rate</th><th>DEC_rate</th><th>AZ</th><th>EL</th><th>AZ_rate</th><th>EL_rate</th><th>sat_X</th><th>sat_Y</th><th>sat_PANG</th><th>siderealtime</th><th>airmass</th><th>magextinct</th><th>V</th><th>surfbright</th><th>illumination</th><th>illum_defect</th><th>sat_sep</th><th>sat_vis</th><th>ang_width</th><th>PDObsLon</th><th>PDObsLat</th><th>PDSunLon</th><th>PDSunLat</th><th>SubSol_ang</th><th>SubSol_dist</th><th>NPole_ang</th><th>NPole_dist</th><th>EclLon</th><th>EclLat</th><th>r</th><th>r_rate</th><th>delta</th><th>delta_rate</th><th>lighttime</th><th>vel_sun</th><th>vel_obs</th><th>elong</th><th>elongFlag</th><th>alpha</th><th>IB_elong</th><th>IB_illum</th><th>sat_alpha</th><th>sunTargetPA</th><th>velocityPA</th><th>OrbPlaneAng</th><th>constellation</th><th>TDB-UT</th><th>ObsEclLon</th><th>ObsEclLat</th><th>NPole_RA</th><th>NPole_DEC</th><th>GlxLon</th><th>GlxLat</th><th>solartime</th><th>earth_lighttime</th><th>RA_3sigma</th><th>DEC_3sigma</th><th>SMAA_3sigma</th><th>SMIA_3sigma</th><th>Theta_3sigma</th><th>Area_3sigma</th><th>RSS_3sigma</th><th>r_3sigma</th><th>r_rate_3sigma</th><th>SBand_3sigma</th><th>XBand_3sigma</th><th>DoppDelay_3sigma</th><th>true_anom</th><th>hour_angle</th><th>alpha_true</th><th>PABLon</th><th>PABLat</th></tr></thead>\n",
       "<thead><tr><th>---</th><th>---</th><th>d</th><th>---</th><th>---</th><th>deg</th><th>deg</th><th>deg</th><th>deg</th><th>arcsec / h</th><th>arcsec / h</th><th>deg</th><th>deg</th><th>arcsec / min</th><th>arcsec / min</th><th>arcsec</th><th>arcsec</th><th>deg</th><th>h</th><th>---</th><th>mag</th><th>mag</th><th>mag / arcsec2</th><th>%</th><th>arcsec</th><th>arcsec</th><th>---</th><th>arcsec</th><th>deg</th><th>deg</th><th>deg</th><th>deg</th><th>deg</th><th>arcsec</th><th>deg</th><th>arcsec</th><th>deg</th><th>deg</th><th>AU</th><th>km / s</th><th>AU</th><th>km / s</th><th>min</th><th>km / s</th><th>km / s</th><th>deg</th><th>---</th><th>deg</th><th>deg</th><th>%</th><th>deg</th><th>deg</th><th>deg</th><th>deg</th><th>---</th><th>s</th><th>deg</th><th>deg</th><th>deg</th><th>deg</th><th>deg</th><th>deg</th><th>h</th><th>min</th><th>arcsec</th><th>arcsec</th><th>arcsec</th><th>arcsec</th><th>deg</th><th>arcsec2</th><th>arcsec</th><th>km</th><th>km / s</th><th>Hz</th><th>Hz</th><th>s</th><th>deg</th><th>h</th><th>deg</th><th>deg</th><th>deg</th></tr></thead>\n",
       "<thead><tr><th>str11</th><th>str24</th><th>float64</th><th>str1</th><th>str1</th><th>float64</th><th>float64</th><th>float64</th><th>float64</th><th>float64</th><th>float64</th><th>int64</th><th>int64</th><th>int64</th><th>int64</th><th>float64</th><th>float64</th><th>float64</th><th>int64</th><th>int64</th><th>int64</th><th>float64</th><th>float64</th><th>float64</th><th>float64</th><th>float64</th><th>str1</th><th>float64</th><th>float64</th><th>float64</th><th>float64</th><th>float64</th><th>float64</th><th>float64</th><th>float64</th><th>float64</th><th>float64</th><th>float64</th><th>float64</th><th>float64</th><th>float64</th><th>float64</th><th>float64</th><th>float64</th><th>float64</th><th>float64</th><th>str2</th><th>float64</th><th>int64</th><th>int64</th><th>float64</th><th>int64</th><th>int64</th><th>float64</th><th>str3</th><th>float64</th><th>float64</th><th>float64</th><th>float64</th><th>float64</th><th>float64</th><th>float64</th><th>int64</th><th>float64</th><th>int64</th><th>int64</th><th>int64</th><th>int64</th><th>int64</th><th>int64</th><th>int64</th><th>int64</th><th>int64</th><th>int64</th><th>int64</th><th>int64</th><th>int64</th><th>int64</th><th>float64</th><th>float64</th><th>float64</th></tr></thead>\n",
       "<tr><td>Titan (606)</td><td>2024-Nov-18 00:00:00.000</td><td>2460632.5</td><td></td><td></td><td>349.79483</td><td>-6.61324</td><td>347.92699</td><td>5.20265</td><td>3.748406</td><td>0.353569</td><td>--</td><td>--</td><td>--</td><td>--</td><td>136.671</td><td>-76.472</td><td>119.226</td><td>--</td><td>999</td><td>--</td><td>8.641</td><td>7.715</td><td>100.0</td><td>1e-10</td><td>156.6132</td><td>*</td><td>0.736652</td><td>112.919431</td><td>2.342809</td><td>112.920595</td><td>2.343586</td><td>84.61</td><td>0.0</td><td>28.3602</td><td>0.368</td><td>348.0291</td><td>-2.0434</td><td>9.639843675675</td><td>-5.4288218</td><td>9.63984367567453</td><td>-5.4288218</td><td>80.17213516</td><td>9.1070237</td><td>9.1070221</td><td>0.0</td><td>/*</td><td>0.0014</td><td>--</td><td>--</td><td>62.098</td><td>--</td><td>--</td><td>0.00352</td><td>Aqr</td><td>69.182801</td><td>348.0291232</td><td>-2.0434133</td><td>39.4827</td><td>83.4279</td><td>71.85249</td><td>-59.98691</td><td>--</td><td>8.220953</td><td>--</td><td>--</td><td>--</td><td>--</td><td>--</td><td>--</td><td>--</td><td>--</td><td>--</td><td>--</td><td>--</td><td>--</td><td>--</td><td>--</td><td>0.0014</td><td>348.0284</td><td>-2.0435</td></tr>\n",
       "</table></div>"
      ],
      "text/plain": [
       "<Table masked=True length=1>\n",
       " targetname       datetime_str       datetime_jd ... alpha_true  PABLon   PABLat\n",
       "    ---               ---                 d      ...    deg       deg      deg  \n",
       "   str11             str24             float64   ...  float64   float64  float64\n",
       "----------- ------------------------ ----------- ... ---------- -------- -------\n",
       "Titan (606) 2024-Nov-18 00:00:00.000   2460632.5 ...     0.0014 348.0284 -2.0435"
      ]
     },
     "execution_count": 3,
     "metadata": {},
     "output_type": "execute_result"
    }
   ],
   "source": [
    "titan = Horizons(id=target_id, epochs=epoch, id_type='id')\n",
    "vectors = titan.vectors()\n",
    "\n",
    "\n",
    "#print(dir(titan.ephemerides()))\n",
    "titan.ephemerides()"
   ]
  },
  {
   "cell_type": "code",
   "execution_count": 17,
   "metadata": {},
   "outputs": [
    {
     "name": "stderr",
     "output_type": "stream",
     "text": [
      "WARNING: AstropyDeprecationWarning: ``id_type``s 'majorbody' and 'id' are deprecated and replaced with ``None``, which has the same functionality. [astroquery.jplhorizons.core]\n"
     ]
    }
   ],
   "source": [
    "from astroquery.jplhorizons import Horizons\n",
    "\n",
    "# Create a Horizons object for Titan\n",
    "# Target ID for Titan is 606 (use '606' or the name 'Titan')\n",
    "obj = Horizons(id='606', location='@sun', epochs=None, id_type='majorbody')\n",
    "\n",
    "# Query physical and orbital parameters\n",
    "info = obj.vectors()\n",
    "elements = obj.elements()\n",
    "\n"
   ]
  },
  {
   "cell_type": "code",
   "execution_count": 22,
   "metadata": {},
   "outputs": [
    {
     "data": {
      "text/html": [
       "<div><i>Table masked=True length=1</i>\n",
       "<table id=\"table1956406276240\" class=\"table-striped table-bordered table-condensed\">\n",
       "<thead><tr><th>targetname</th><th>datetime_jd</th><th>datetime_str</th><th>e</th><th>q</th><th>incl</th><th>Omega</th><th>w</th><th>Tp_jd</th><th>n</th><th>M</th><th>nu</th><th>a</th><th>Q</th><th>P</th></tr></thead>\n",
       "<thead><tr><th>---</th><th>d</th><th>---</th><th>---</th><th>AU</th><th>deg</th><th>deg</th><th>deg</th><th>d</th><th>deg / d</th><th>deg</th><th>deg</th><th>AU</th><th>AU</th><th>d</th></tr></thead>\n",
       "<thead><tr><th>str11</th><th>float64</th><th>str30</th><th>float64</th><th>float64</th><th>float64</th><th>float64</th><th>float64</th><th>float64</th><th>float64</th><th>float64</th><th>float64</th><th>float64</th><th>float64</th><th>float64</th></tr></thead>\n",
       "<tr><td>Titan (606)</td><td>2460658.182598694</td><td>A.D. 2024-Dec-13 16:22:56.5272</td><td>1.286696143601336</td><td>9.494471531077389</td><td>10.49345269459155</td><td>157.7696277795629</td><td>177.7879989709798</td><td>2460391.573424993</td><td>0.005171668396859161</td><td>1.378814237941804</td><td>13.44208150470893</td><td>-33.11684423729088</td><td>9.999999999999998e+99</td><td>9.999999999999998e+99</td></tr>\n",
       "</table></div>"
      ],
      "text/plain": [
       "<Table masked=True length=1>\n",
       " targetname    datetime_jd    ...           Q                     P          \n",
       "    ---             d         ...           AU                    d          \n",
       "   str11         float64      ...        float64               float64       \n",
       "----------- ----------------- ... --------------------- ---------------------\n",
       "Titan (606) 2460658.182598694 ... 9.999999999999998e+99 9.999999999999998e+99"
      ]
     },
     "execution_count": 22,
     "metadata": {},
     "output_type": "execute_result"
    }
   ],
   "source": [
    "elements"
   ]
  },
  {
   "cell_type": "code",
   "execution_count": 20,
   "metadata": {},
   "outputs": [],
   "source": [
    "saturn_moons_ids = {\n",
    "    \"Mimas\": 601,\n",
    "    \"Enceladus\": 602,\n",
    "    \"Tethys\": 603,\n",
    "    \"Dione\": 604,\n",
    "    \"Rhea\": 605,\n",
    "    \"Titan\": 606,\n",
    "    \"Hyperion\": 607,\n",
    "    \"Iapetus\": 608,\n",
    "    \"Phoebe\": 609,\n",
    "    \"Janus\": 610,\n",
    "    \"Epimetheus\": 611,\n",
    "    \"Helene\": 612,\n",
    "    \"Telesto\": 613,\n",
    "    \"Calypso\": 614,\n",
    "    \"Atlas\": 615,\n",
    "    \"Prometheus\": 616,\n",
    "    \"Pandora\": 617,\n",
    "    \"Pan\": 618,\n",
    "    \"Daphnis\": 635\n",
    "}\n"
   ]
  },
  {
   "cell_type": "code",
   "execution_count": 11,
   "metadata": {},
   "outputs": [
    {
     "name": "stderr",
     "output_type": "stream",
     "text": [
      "WARNING: AstropyDeprecationWarning: ``id_type``s 'majorbody' and 'id' are deprecated and replaced with ``None``, which has the same functionality. [astroquery.jplhorizons.core]\n",
      "WARNING: AstropyDeprecationWarning: ``id_type``s 'majorbody' and 'id' are deprecated and replaced with ``None``, which has the same functionality. [astroquery.jplhorizons.core]\n",
      "WARNING: AstropyDeprecationWarning: ``id_type``s 'majorbody' and 'id' are deprecated and replaced with ``None``, which has the same functionality. [astroquery.jplhorizons.core]\n",
      "WARNING: AstropyDeprecationWarning: ``id_type``s 'majorbody' and 'id' are deprecated and replaced with ``None``, which has the same functionality. [astroquery.jplhorizons.core]\n",
      "WARNING: AstropyDeprecationWarning: ``id_type``s 'majorbody' and 'id' are deprecated and replaced with ``None``, which has the same functionality. [astroquery.jplhorizons.core]\n",
      "WARNING: AstropyDeprecationWarning: ``id_type``s 'majorbody' and 'id' are deprecated and replaced with ``None``, which has the same functionality. [astroquery.jplhorizons.core]\n",
      "WARNING: AstropyDeprecationWarning: ``id_type``s 'majorbody' and 'id' are deprecated and replaced with ``None``, which has the same functionality. [astroquery.jplhorizons.core]\n",
      "WARNING: AstropyDeprecationWarning: ``id_type``s 'majorbody' and 'id' are deprecated and replaced with ``None``, which has the same functionality. [astroquery.jplhorizons.core]\n",
      "WARNING: AstropyDeprecationWarning: ``id_type``s 'majorbody' and 'id' are deprecated and replaced with ``None``, which has the same functionality. [astroquery.jplhorizons.core]\n",
      "WARNING: AstropyDeprecationWarning: ``id_type``s 'majorbody' and 'id' are deprecated and replaced with ``None``, which has the same functionality. [astroquery.jplhorizons.core]\n",
      "WARNING: AstropyDeprecationWarning: ``id_type``s 'majorbody' and 'id' are deprecated and replaced with ``None``, which has the same functionality. [astroquery.jplhorizons.core]\n",
      "WARNING: AstropyDeprecationWarning: ``id_type``s 'majorbody' and 'id' are deprecated and replaced with ``None``, which has the same functionality. [astroquery.jplhorizons.core]\n",
      "WARNING: AstropyDeprecationWarning: ``id_type``s 'majorbody' and 'id' are deprecated and replaced with ``None``, which has the same functionality. [astroquery.jplhorizons.core]\n"
     ]
    },
    {
     "name": "stdout",
     "output_type": "stream",
     "text": [
      "Saturn:\n",
      "  Position (r): {'x': -1.800086971269877e-06, 'y': 7.565101996446515e-07, 'z': -1.935737837023953e-07}\n",
      "  Velocity (v): {'vx': -2.926196941286469e-07, 'vy': -6.60487867938699e-07, 'vz': 3.686043609381555e-07}\n",
      "\n",
      "Mimas:\n",
      "  Position (r): {'x': 0.0003430516056924889, 'y': 0.001046434057038668, 'z': -0.0005796430124471687}\n",
      "  Velocity (v): {'vx': -0.00785910620503899, 'vy': 0.002371537043699625, 'vz': -0.0007368915000228385}\n",
      "\n",
      "Enceladus:\n",
      "  Position (r): {'x': 0.001262814180083339, 'y': -0.0008893136582699005, 'z': 0.0003439331629459405}\n",
      "  Velocity (v): {'vx': 0.00435719964400672, 'vy': 0.005034217359690949, 'vz': -0.003059660247748447}\n",
      "\n",
      "Tethys:\n",
      "  Position (r): {'x': 0.0005507578439645535, 'y': 0.001635199042064124, 'z': -0.0009511249531028937}\n",
      "  Velocity (v): {'vx': -0.006266730505738046, 'vy': 0.001878149941263796, 'vz': -0.0004135705083402602}\n",
      "\n",
      "Dione:\n",
      "  Position (r): {'x': 0.002310601552267244, 'y': -0.0009782655479409026, 'z': 0.0002899589459838251}\n",
      "  Velocity (v): {'vx': 0.002286158107864653, 'vy': 0.004607835284426294, 'vz': -0.002635497906721314}\n",
      "\n",
      "Rhea:\n",
      "  Position (r): {'x': 0.002731900553857428, 'y': 0.001859651260669731, 'z': -0.001214993796012196}\n",
      "  Velocity (v): {'vx': -0.003062539468376649, 'vy': 0.003503568937035556, 'vz': -0.001539841618447064}\n",
      "\n",
      "Titan:\n",
      "  Position (r): {'x': 0.007266384556761795, 'y': -0.003066421754065798, 'z': 0.0008589209485396654}\n",
      "  Velocity (v): {'vx': 0.001286138501501901, 'vy': 0.002657553258349627, 'vz': -0.001497424366526923}\n",
      "\n",
      "Hyperion:\n",
      "  Position (r): {'x': 0.006692069644686968, 'y': 0.004747752878708211, 'z': -0.003022038024558968}\n",
      "  Velocity (v): {'vx': -0.002020250739922112, 'vy': 0.002397067088675357, 'vz': -0.001005045657530383}\n",
      "\n",
      "Iapetus:\n",
      "  Position (r): {'x': 0.02011140985136857, 'y': -0.01165599085830593, 'z': -0.001366288724880805}\n",
      "  Velocity (v): {'vx': 0.000867393446911633, 'vy': 0.001629272403478934, 'vz': -0.0005522539125328246}\n",
      "\n",
      "Phoebe:\n",
      "  Position (r): {'x': -0.01350704933758438, 'y': -0.07205938051999909, 'z': 0.00137675623739947}\n",
      "  Velocity (v): {'vx': -0.00112443923196942, 'vy': 0.0002171814650799511, 'vz': 0.0001367114963152464}\n",
      "\n",
      "Janus:\n",
      "  Position (r): {'x': 0.0002202962140692216, 'y': 0.0008620013254078311, 'z': -0.0004735578083350466}\n",
      "  Velocity (v): {'vx': -0.008933161829102894, 'vy': 0.002185322123401142, 'vz': -0.0003093713992956545}\n",
      "\n",
      "Epimetheus:\n",
      "  Position (r): {'x': -2.366672779591833e-05, 'y': 0.0008933367382604386, 'z': -0.0004639616461875018}\n",
      "  Velocity (v): {'vx': -0.009183198611833015, 'vy': 0.0001019870939068739, 'vz': 0.0007736979550744822}\n",
      "\n",
      "Helene:\n",
      "  Position (r): {'x': 0.001661203965085084, 'y': 0.001617884652155861, 'z': -0.001016959524431545}\n",
      "  Velocity (v): {'vx': -0.00434351981108138, 'vy': 0.003523245797295353, 'vz': -0.001410606283371317}\n",
      "\n",
      "Telesto:\n",
      "  Position (r): {'x': -0.001356282414116428, 'y': 0.001313719613348591, 'z': -0.0005683186197718496}\n",
      "  Velocity (v): {'vx': -0.004718177250073652, 'vy': -0.003754486576301544, 'vz': 0.002572458144329946}\n",
      "\n",
      "Calypso:\n",
      "  Position (r): {'x': 0.001897180715257289, 'y': 0.0003878290939979633, 'z': -0.0003507533002916164}\n",
      "  Velocity (v): {'vx': -0.001684401429013519, 'vy': 0.00561719409005194, 'vz': -0.002932538206325449}\n",
      "\n",
      "Atlas:\n",
      "  Position (r): {'x': 0.0008910487201099998, 'y': -0.0002167386237398661, 'z': 2.726468835862888e-05}\n",
      "  Velocity (v): {'vx': 0.002147501834475237, 'vy': 0.008217244798421385, 'vz': -0.004513155739171468}\n",
      "\n",
      "Prometheus:\n",
      "  Position (r): {'x': 0.000583271683001261, 'y': 0.0006179444790175557, 'z': -0.0003804071733455895}\n",
      "  Velocity (v): {'vx': -0.007400891697492753, 'vy': 0.005612396893574396, 'vz': -0.002224302729211687}\n",
      "\n",
      "Pandora:\n",
      "  Position (r): {'x': 0.0005356256538340734, 'y': -0.0007108544737167512, 'z': 0.000320747346304294}\n",
      "  Velocity (v): {'vx': 0.007732527973540019, 'vy': 0.004495671632257156, 'vz': -0.00309545875383569}\n",
      "\n",
      "Pan:\n",
      "  Position (r): {'x': 0.0004749002593767678, 'y': 0.0006495992650739687, 'z': -0.0003863620061023662}\n",
      "  Velocity (v): {'vx': -0.008208156882603911, 'vy': 0.004956826041060089, 'vz': -0.001802074601365773}\n",
      "\n",
      "Daphnis:\n",
      "  Position (r): {'x': -0.0007850587805372564, 'y': 0.0004423093138252596, 'z': -0.0001556997748370156}\n",
      "  Velocity (v): {'vx': -0.004882190432647669, 'vy': -0.007170712211610213, 'vz': 0.004230237189568186}\n",
      "\n"
     ]
    },
    {
     "name": "stderr",
     "output_type": "stream",
     "text": [
      "WARNING: AstropyDeprecationWarning: ``id_type``s 'majorbody' and 'id' are deprecated and replaced with ``None``, which has the same functionality. [astroquery.jplhorizons.core]\n",
      "WARNING: AstropyDeprecationWarning: ``id_type``s 'majorbody' and 'id' are deprecated and replaced with ``None``, which has the same functionality. [astroquery.jplhorizons.core]\n",
      "WARNING: AstropyDeprecationWarning: ``id_type``s 'majorbody' and 'id' are deprecated and replaced with ``None``, which has the same functionality. [astroquery.jplhorizons.core]\n",
      "WARNING: AstropyDeprecationWarning: ``id_type``s 'majorbody' and 'id' are deprecated and replaced with ``None``, which has the same functionality. [astroquery.jplhorizons.core]\n",
      "WARNING: AstropyDeprecationWarning: ``id_type``s 'majorbody' and 'id' are deprecated and replaced with ``None``, which has the same functionality. [astroquery.jplhorizons.core]\n",
      "WARNING: AstropyDeprecationWarning: ``id_type``s 'majorbody' and 'id' are deprecated and replaced with ``None``, which has the same functionality. [astroquery.jplhorizons.core]\n"
     ]
    }
   ],
   "source": [
    "from astroquery.jplhorizons import Horizons\n",
    "\n",
    "def get_saturn_moons_vectors(saturn_moons_ids, epoch):\n",
    "    \"\"\"\n",
    "    Get position and velocity vectors for Saturn's moons relative to Saturn.\n",
    "    \n",
    "    Parameters:\n",
    "        saturn_moons_ids (dict): Dictionary of moon names and their Horizons IDs.\n",
    "        epoch (list): Julian date(s) or list of calendar dates to query.\n",
    "        \n",
    "    Returns:\n",
    "        dict: Nested dictionary with moon names as keys and position/velocity vectors as values.\n",
    "    \"\"\"\n",
    "    results = {}\n",
    "    center_id = '500@6'  # Center of the system is Saturn\n",
    "    \n",
    "    for moon, target_id in saturn_moons_ids.items():\n",
    "        # Query the Horizons database for each moon\n",
    "        moon_data = Horizons(id=target_id, location=center_id, epochs=epoch, id_type='id')\n",
    "        vectors = moon_data.vectors()\n",
    "        \n",
    "        # Extract position and velocity vectors\n",
    "        position = {\n",
    "            \"x\": vectors['x'][0],\n",
    "            \"y\": vectors['y'][0],\n",
    "            \"z\": vectors['z'][0]\n",
    "        }\n",
    "        velocity = {\n",
    "            \"vx\": vectors['vx'][0],\n",
    "            \"vy\": vectors['vy'][0],\n",
    "            \"vz\": vectors['vz'][0]\n",
    "        }\n",
    "        \n",
    "        # Add to the results dictionary\n",
    "        results[moon] = {\n",
    "            \"r\": position,\n",
    "            \"v\": velocity\n",
    "        }\n",
    "    \n",
    "    return results\n",
    "\n",
    "# Example usage\n",
    "saturn_moons_ids = {\n",
    "    \"Saturn\":699,\n",
    "    \"Mimas\": 601,\n",
    "    \"Enceladus\": 602,\n",
    "    \"Tethys\": 603,\n",
    "    \"Dione\": 604,\n",
    "    \"Rhea\": 605,\n",
    "    \"Titan\": 606,\n",
    "    \"Hyperion\": 607,\n",
    "    \"Iapetus\": 608,\n",
    "    \"Phoebe\": 609,\n",
    "    \"Janus\": 610,\n",
    "    \"Epimetheus\": 611,\n",
    "    \"Helene\": 612,\n",
    "    \"Telesto\": 613,\n",
    "    \"Calypso\": 614,\n",
    "    \"Atlas\": 615,\n",
    "    \"Prometheus\": 616,\n",
    "    \"Pandora\": 617,\n",
    "    \"Pan\": 618,\n",
    "    \"Daphnis\": 635\n",
    "\n",
    "}\n",
    "epoch = [2460632.5]  # Replace with your desired Julian date(s)\n",
    "epoch=[2458075.5]\n",
    "moon_vectors = get_saturn_moons_vectors(saturn_moons_ids, epoch)\n",
    "\n",
    "# Print the results\n",
    "for moon, data in moon_vectors.items():\n",
    "    print(f\"{moon}:\")\n",
    "    print(f\"  Position (r): {data['r']}\")\n",
    "    print(f\"  Velocity (v): {data['v']}\")\n",
    "    print()\n"
   ]
  },
  {
   "cell_type": "code",
   "execution_count": 2,
   "metadata": {},
   "outputs": [
    {
     "data": {
      "text/plain": [
       "{'Mimas': {'r': {'x': 0.0003430516056924889,\n",
       "   'y': 0.001046434057038668,\n",
       "   'z': -0.0005796430124471687},\n",
       "  'v': {'vx': -0.00785910620503899,\n",
       "   'vy': 0.002371537043699625,\n",
       "   'vz': -0.0007368915000228385}},\n",
       " 'Enceladus': {'r': {'x': 0.001262814180083339,\n",
       "   'y': -0.0008893136582699005,\n",
       "   'z': 0.0003439331629459405},\n",
       "  'v': {'vx': 0.00435719964400672,\n",
       "   'vy': 0.005034217359690949,\n",
       "   'vz': -0.003059660247748447}},\n",
       " 'Tethys': {'r': {'x': 0.0005507578439645535,\n",
       "   'y': 0.001635199042064124,\n",
       "   'z': -0.0009511249531028937},\n",
       "  'v': {'vx': -0.006266730505738046,\n",
       "   'vy': 0.001878149941263796,\n",
       "   'vz': -0.0004135705083402602}},\n",
       " 'Dione': {'r': {'x': 0.002310601552267244,\n",
       "   'y': -0.0009782655479409026,\n",
       "   'z': 0.0002899589459838251},\n",
       "  'v': {'vx': 0.002286158107864653,\n",
       "   'vy': 0.004607835284426294,\n",
       "   'vz': -0.002635497906721314}},\n",
       " 'Rhea': {'r': {'x': 0.002731900553857428,\n",
       "   'y': 0.001859651260669731,\n",
       "   'z': -0.001214993796012196},\n",
       "  'v': {'vx': -0.003062539468376649,\n",
       "   'vy': 0.003503568937035556,\n",
       "   'vz': -0.001539841618447064}},\n",
       " 'Titan': {'r': {'x': 0.007266384556761795,\n",
       "   'y': -0.003066421754065798,\n",
       "   'z': 0.0008589209485396654},\n",
       "  'v': {'vx': 0.001286138501501901,\n",
       "   'vy': 0.002657553258349627,\n",
       "   'vz': -0.001497424366526923}},\n",
       " 'Hyperion': {'r': {'x': 0.006692069644686968,\n",
       "   'y': 0.004747752878708211,\n",
       "   'z': -0.003022038024558968},\n",
       "  'v': {'vx': -0.002020250739922112,\n",
       "   'vy': 0.002397067088675357,\n",
       "   'vz': -0.001005045657530383}},\n",
       " 'Iapetus': {'r': {'x': 0.02011140985136857,\n",
       "   'y': -0.01165599085830593,\n",
       "   'z': -0.001366288724880805},\n",
       "  'v': {'vx': 0.000867393446911633,\n",
       "   'vy': 0.001629272403478934,\n",
       "   'vz': -0.0005522539125328246}},\n",
       " 'Phoebe': {'r': {'x': -0.01350704933758438,\n",
       "   'y': -0.07205938051999909,\n",
       "   'z': 0.00137675623739947},\n",
       "  'v': {'vx': -0.00112443923196942,\n",
       "   'vy': 0.0002171814650799511,\n",
       "   'vz': 0.0001367114963152464}},\n",
       " 'Janus': {'r': {'x': 0.0002202962140692216,\n",
       "   'y': 0.0008620013254078311,\n",
       "   'z': -0.0004735578083350466},\n",
       "  'v': {'vx': -0.008933161829102894,\n",
       "   'vy': 0.002185322123401142,\n",
       "   'vz': -0.0003093713992956545}},\n",
       " 'Epimetheus': {'r': {'x': -2.366672779591833e-05,\n",
       "   'y': 0.0008933367382604386,\n",
       "   'z': -0.0004639616461875018},\n",
       "  'v': {'vx': -0.009183198611833015,\n",
       "   'vy': 0.0001019870939068739,\n",
       "   'vz': 0.0007736979550744822}},\n",
       " 'Helene': {'r': {'x': 0.001661203965085084,\n",
       "   'y': 0.001617884652155861,\n",
       "   'z': -0.001016959524431545},\n",
       "  'v': {'vx': -0.00434351981108138,\n",
       "   'vy': 0.003523245797295353,\n",
       "   'vz': -0.001410606283371317}},\n",
       " 'Telesto': {'r': {'x': -0.001356282414116428,\n",
       "   'y': 0.001313719613348591,\n",
       "   'z': -0.0005683186197718496},\n",
       "  'v': {'vx': -0.004718177250073652,\n",
       "   'vy': -0.003754486576301544,\n",
       "   'vz': 0.002572458144329946}},\n",
       " 'Calypso': {'r': {'x': 0.001897180715257289,\n",
       "   'y': 0.0003878290939979633,\n",
       "   'z': -0.0003507533002916164},\n",
       "  'v': {'vx': -0.001684401429013519,\n",
       "   'vy': 0.00561719409005194,\n",
       "   'vz': -0.002932538206325449}},\n",
       " 'Atlas': {'r': {'x': 0.0008910487201099998,\n",
       "   'y': -0.0002167386237398661,\n",
       "   'z': 2.726468835862888e-05},\n",
       "  'v': {'vx': 0.002147501834475237,\n",
       "   'vy': 0.008217244798421385,\n",
       "   'vz': -0.004513155739171468}},\n",
       " 'Prometheus': {'r': {'x': 0.000583271683001261,\n",
       "   'y': 0.0006179444790175557,\n",
       "   'z': -0.0003804071733455895},\n",
       "  'v': {'vx': -0.007400891697492753,\n",
       "   'vy': 0.005612396893574396,\n",
       "   'vz': -0.002224302729211687}},\n",
       " 'Pandora': {'r': {'x': 0.0005356256538340734,\n",
       "   'y': -0.0007108544737167512,\n",
       "   'z': 0.000320747346304294},\n",
       "  'v': {'vx': 0.007732527973540019,\n",
       "   'vy': 0.004495671632257156,\n",
       "   'vz': -0.00309545875383569}},\n",
       " 'Pan': {'r': {'x': 0.0004749002593767678,\n",
       "   'y': 0.0006495992650739687,\n",
       "   'z': -0.0003863620061023662},\n",
       "  'v': {'vx': -0.008208156882603911,\n",
       "   'vy': 0.004956826041060089,\n",
       "   'vz': -0.001802074601365773}},\n",
       " 'Daphnis': {'r': {'x': -0.0007850587805372564,\n",
       "   'y': 0.0004423093138252596,\n",
       "   'z': -0.0001556997748370156},\n",
       "  'v': {'vx': -0.004882190432647669,\n",
       "   'vy': -0.007170712211610213,\n",
       "   'vz': 0.004230237189568186}}}"
      ]
     },
     "execution_count": 2,
     "metadata": {},
     "output_type": "execute_result"
    }
   ],
   "source": [
    "moon_vectors"
   ]
  },
  {
   "cell_type": "code",
   "execution_count": null,
   "metadata": {},
   "outputs": [
    {
     "name": "stderr",
     "output_type": "stream",
     "text": [
      "WARNING: AstropyDeprecationWarning: ``id_type``s 'majorbody' and 'id' are deprecated and replaced with ``None``, which has the same functionality. [astroquery.jplhorizons.core]\n",
      "WARNING: AstropyDeprecationWarning: \"get_raw_response\" was deprecated in version 0.4.7 and will be removed in a future version. \n",
      "        Use async methods instead. [warnings]\n"
     ]
    },
    {
     "ename": "NameError",
     "evalue": "name 're' is not defined",
     "output_type": "error",
     "traceback": [
      "\u001b[1;31m---------------------------------------------------------------------------\u001b[0m",
      "\u001b[1;31mNameError\u001b[0m                                 Traceback (most recent call last)",
      "\u001b[1;32m~\\AppData\\Local\\Temp\\ipykernel_12660\\1372578805.py\u001b[0m in \u001b[0;36m<cell line: 0>\u001b[1;34m()\u001b[0m\n\u001b[0;32m     46\u001b[0m         \u001b[0mresults\u001b[0m\u001b[1;33m[\u001b[0m\u001b[0mmoon\u001b[0m\u001b[1;33m]\u001b[0m \u001b[1;33m=\u001b[0m \u001b[0mmass\u001b[0m\u001b[1;33m\u001b[0m\u001b[1;33m\u001b[0m\u001b[0m\n\u001b[0;32m     47\u001b[0m     \u001b[1;32mreturn\u001b[0m \u001b[0mresults\u001b[0m\u001b[1;33m\u001b[0m\u001b[1;33m\u001b[0m\u001b[0m\n\u001b[1;32m---> 48\u001b[1;33m \u001b[0mmasses\u001b[0m \u001b[1;33m=\u001b[0m \u001b[0mget_saturn_moons_masses\u001b[0m\u001b[1;33m(\u001b[0m\u001b[0msaturn_moons_ids\u001b[0m\u001b[1;33m,\u001b[0m \u001b[0mepoch\u001b[0m\u001b[1;33m)\u001b[0m\u001b[1;33m\u001b[0m\u001b[1;33m\u001b[0m\u001b[0m\n\u001b[0m",
      "\u001b[1;32m~\\AppData\\Local\\Temp\\ipykernel_12660\\1372578805.py\u001b[0m in \u001b[0;36mget_saturn_moons_masses\u001b[1;34m(saturn_moons_ids, epoch)\u001b[0m\n\u001b[0;32m     38\u001b[0m         \u001b[0mmoon_data\u001b[0m \u001b[1;33m=\u001b[0m \u001b[0mHorizons\u001b[0m\u001b[1;33m(\u001b[0m\u001b[0mid\u001b[0m\u001b[1;33m=\u001b[0m\u001b[0mtarget_id\u001b[0m\u001b[1;33m,\u001b[0m \u001b[0mlocation\u001b[0m\u001b[1;33m=\u001b[0m\u001b[0mcenter_id\u001b[0m\u001b[1;33m,\u001b[0m \u001b[0mepochs\u001b[0m\u001b[1;33m=\u001b[0m\u001b[0mepoch\u001b[0m\u001b[1;33m,\u001b[0m \u001b[0mid_type\u001b[0m\u001b[1;33m=\u001b[0m\u001b[1;34m'id'\u001b[0m\u001b[1;33m)\u001b[0m\u001b[1;33m\u001b[0m\u001b[1;33m\u001b[0m\u001b[0m\n\u001b[0;32m     39\u001b[0m         \u001b[0mresponse\u001b[0m \u001b[1;33m=\u001b[0m \u001b[0mmoon_data\u001b[0m\u001b[1;33m.\u001b[0m\u001b[0mephemerides_async\u001b[0m\u001b[1;33m(\u001b[0m\u001b[0mget_raw_response\u001b[0m\u001b[1;33m=\u001b[0m\u001b[1;32mTrue\u001b[0m\u001b[1;33m)\u001b[0m\u001b[1;33m.\u001b[0m\u001b[0mtext\u001b[0m\u001b[1;33m\u001b[0m\u001b[1;33m\u001b[0m\u001b[0m\n\u001b[1;32m---> 40\u001b[1;33m         \u001b[0mprint\u001b[0m\u001b[1;33m(\u001b[0m\u001b[0mmoon\u001b[0m\u001b[1;33m,\u001b[0m\u001b[0mre\u001b[0m\u001b[1;33m.\u001b[0m\u001b[0mfindall\u001b[0m\u001b[1;33m(\u001b[0m\u001b[1;34mr\"Mass \\(10\\^(\\d\\d?) (kg|g)\\s?\\s?\\)\\s+=\\s+([\\d.]+)\"\u001b[0m\u001b[1;33m,\u001b[0m \u001b[0mresponse\u001b[0m\u001b[1;33m)\u001b[0m\u001b[1;33m)\u001b[0m\u001b[1;33m\u001b[0m\u001b[1;33m\u001b[0m\u001b[0m\n\u001b[0m\u001b[0;32m     41\u001b[0m         \u001b[1;32mtry\u001b[0m\u001b[1;33m:\u001b[0m \u001b[0me\u001b[0m\u001b[1;33m,\u001b[0m\u001b[0mu\u001b[0m\u001b[1;33m,\u001b[0m\u001b[0mm\u001b[0m\u001b[1;33m=\u001b[0m\u001b[0mre\u001b[0m\u001b[1;33m.\u001b[0m\u001b[0mfindall\u001b[0m\u001b[1;33m(\u001b[0m\u001b[1;34mr\"Mass \\(10\\^(\\d\\d?) (kg|g)\\s?\\s?\\)\\s+=\\s+([\\d.]+)\"\u001b[0m\u001b[1;33m,\u001b[0m \u001b[0mresponse\u001b[0m\u001b[1;33m)\u001b[0m\u001b[1;33m[\u001b[0m\u001b[1;36m0\u001b[0m\u001b[1;33m]\u001b[0m\u001b[1;33m\u001b[0m\u001b[1;33m\u001b[0m\u001b[0m\n\u001b[0;32m     42\u001b[0m         \u001b[1;32mexcept\u001b[0m \u001b[0mIndexError\u001b[0m\u001b[1;33m:\u001b[0m \u001b[0mm\u001b[0m\u001b[1;33m,\u001b[0m\u001b[0me\u001b[0m\u001b[1;33m,\u001b[0m\u001b[0mu\u001b[0m\u001b[1;33m=\u001b[0m\u001b[0mnp\u001b[0m\u001b[1;33m.\u001b[0m\u001b[0mnan\u001b[0m\u001b[1;33m,\u001b[0m\u001b[1;36m0\u001b[0m\u001b[1;33m,\u001b[0m\u001b[1;34m\"g\"\u001b[0m\u001b[1;33m\u001b[0m\u001b[1;33m\u001b[0m\u001b[0m\n",
      "\u001b[1;31mNameError\u001b[0m: name 're' is not defined"
     ]
    }
   ],
   "source": [
    "saturn_moons_ids = {\n",
    "    \n",
    "    \"Mimas\": 601,\n",
    "    \"Enceladus\": 602,\n",
    "    \"Tethys\": 603,\n",
    "    \"Dione\": 604,\n",
    "    \"Rhea\": 605,\n",
    "    \"Titan\": 606,\n",
    "    \"Hyperion\": 607,\n",
    "    \"Iapetus\": 608,\n",
    "    \"Phoebe\": 609,\n",
    "    \"Janus\": 610,\n",
    "    \"Epimetheus\": 611,\n",
    "    \"Helene\": 612,\n",
    "    \"Telesto\": 613,\n",
    "    \"Calypso\": 614,\n",
    "    \"Atlas\": 615,\n",
    "    \"Prometheus\": 616,\n",
    "    \"Pandora\": 617,\n",
    "    \"Pan\": 618\n",
    "}\n",
    "def get_saturn_moons_masses(saturn_moons_ids, epoch):\n",
    "    \"\"\"\n",
    "    Get position and velocity vectors for Saturn's moons relative to Saturn.\n",
    "    \n",
    "    Parameters:\n",
    "        saturn_moons_ids (dict): Dictionary of moon names and their Horizons IDs.\n",
    "        epoch (list): Julian date(s) or list of calendar dates to query.\n",
    "        \n",
    "    Returns:\n",
    "        dict: Nested dictionary with moon names as keys and position/velocity vectors as values.\n",
    "    \"\"\"\n",
    "    results = {}\n",
    "    center_id = '500@6'  # Center of the system is Saturn\n",
    "    \n",
    "    for moon, target_id in saturn_moons_ids.items():\n",
    "        # Query the Horizons database for each moon\n",
    "        moon_data = Horizons(id=target_id, location=center_id, epochs=epoch, id_type='id')\n",
    "        response = moon_data.ephemerides_async(get_raw_response=True).text\n",
    "        print(moon,re.findall(r\"Mass \\(10\\^(\\d\\d?) (kg|g)\\s?\\s?\\)\\s+=\\s+([\\d.]+)\", response))\n",
    "        try: e,u,m=re.findall(r\"Mass \\(10\\^(\\d\\d?) (kg|g)\\s?\\s?\\)\\s+=\\s+([\\d.]+)\", response)[0]\n",
    "        except IndexError: m,e,u=np.nan,0,\"g\"\n",
    "        mass=float(m)*10**int(e)*10**(3*(1-(\"k\" in u)))\n",
    "        # Extract position and velocity vectors\n",
    "        # Add to the results dictionary\n",
    "        results[moon] = mass\n",
    "    return results\n",
    "masses = get_saturn_moons_masses(saturn_moons_ids, epoch)"
   ]
  },
  {
   "cell_type": "code",
   "execution_count": 107,
   "metadata": {},
   "outputs": [
    {
     "data": {
      "text/plain": [
       "{'Mimas': 3.75e+19,\n",
       " 'Enceladus': 1.0805e+20,\n",
       " 'Tethys': 6.176e+20,\n",
       " 'Dione': 1.09572e+21,\n",
       " 'Rhea': 2.309e+21,\n",
       " 'Titan': 1.3455299999999999e+23,\n",
       " 'Hyperion': 1.08e+19,\n",
       " 'Iapetus': 1.8059e+21,\n",
       " 'Phoebe': 8.289e+18,\n",
       " 'Janus': 1.9800000000000003e+18,\n",
       " 'Epimetheus': 5.5e+17,\n",
       " 'Helene': 2.5469999999999996e+22,\n",
       " 'Telesto': 7.194e+21,\n",
       " 'Calypso': 3.597e+21,\n",
       " 'Atlas': nan,\n",
       " 'Prometheus': 1.4e+17,\n",
       " 'Pandora': 1.3e+17,\n",
       " 'Pan': nan}"
      ]
     },
     "execution_count": 107,
     "metadata": {},
     "output_type": "execute_result"
    }
   ],
   "source": [
    "masses"
   ]
  },
  {
   "cell_type": "code",
   "execution_count": 30,
   "metadata": {},
   "outputs": [],
   "source": [
    "saturn_moons_masses = {\n",
    "    \"Saturn\":5.6834*10**26,   # kg\n",
    "    \"Mimas\": 3.7493e19,       # kg\n",
    "    \"Enceladus\": 1.08022e20,  # kg\n",
    "    \"Tethys\": 6.17449e20,     # kg\n",
    "    \"Dione\": 1.095452e21,     # kg\n",
    "    \"Rhea\": 2.306518e21,      # kg\n",
    "    \"Titan\": 1.3452e23,       # kg\n",
    "    \"Hyperion\": 5.62e18,      # kg\n",
    "    \"Iapetus\": 1.805635e21,   # kg\n",
    "    \"Phoebe\": 8.292e18,       # kg\n",
    "    \"Janus\": 1.898e18,        # kg\n",
    "    \"Epimetheus\": 5.264e17,   # kg\n",
    "    \"Helene\": 1.2e17,         # kg (approximate)\n",
    "    \"Telesto\": 4.1e16,        # kg (approximate)\n",
    "    \"Calypso\": 4.0e16,        # kg (approximate)\n",
    "    \"Atlas\": 7.0e16,          # kg (approximate)\n",
    "    \"Prometheus\": 1.6e17,     # kg\n",
    "    \"Pandora\": 1.4e17,        # kg\n",
    "    \"Pan\": 4.95e15 ,          # kg\n",
    "    \"Daphnis\": 6.5e13         # kg\n",
    "}\n"
   ]
  },
  {
   "cell_type": "code",
   "execution_count": 9,
   "metadata": {},
   "outputs": [
    {
     "name": "stdout",
     "output_type": "stream",
     "text": [
      "{'Mimas': {'r': {'x': -0.001028864819791421, 'y': 0.0006603768787969255, 'z': -0.0002842842332701789}, 'v': {'vx': -0.004743822586980972, 'vy': -0.005652360479517531, 'vz': 0.003479565818489741}}, 'Enceladus': {'r': {'x': 0.001570702883799815, 'y': 0.0001561856361024074, 'z': -0.000233850560439507}, 'v': {'vx': -0.00115709830799015, 'vy': 0.006409664101611489, 'vz': -0.003245728980569385}}, 'Tethys': {'r': {'x': -0.0007210984767747834, 'y': -0.001606456572822791, 'z': 0.0008866730015396321}, 'v': {'vx': 0.006068085111733429, 'vy': -0.002417043509830783, 'vz': 0.0005636920783501447}}, 'Dione': {'r': {'x': 0.0007961618789297998, 'y': 0.002082861716496034, 'z': -0.001167378772233903}, 'v': {'vx': -0.005478700965153795, 'vy': 0.00185535275473159, 'vz': -0.0004398594668345293}}, 'Rhea': {'r': {'x': 0.002423345450884889, 'y': 0.002160287653613478, 'z': -0.001363669302795878}, 'v': {'vx': -0.003531959234621147, 'vy': 0.003128456112057658, 'vz': -0.001326784816240979}}, 'Titan': {'r': {'x': -0.002743182412736859, 'y': 0.007055486533775177, 'z': -0.003365600075106132}, 'v': {'vx': -0.003004327804185247, 'vy': -0.0007487602854820881, 'vz': 0.000685352748411595}}, 'Hyperion': {'r': {'x': -0.001942191953182398, 'y': 0.009756401540527006, 'z': -0.004712934106856713}, 'v': {'vx': -0.002556971060777196, 'vy': -0.0003570827684299674, 'vz': 0.0004192313287287034}}, 'Iapetus': {'r': {'x': 0.01155820529309057, 'y': 0.01911840008584179, 'z': -0.006739979724793801}, 'v': {'vx': -0.001608317117954236, 'vy': 0.001050218441360834, 'vz': 8.13781198885411e-05}}, 'Phoebe': {'r': {'x': 0.07447565403020666, 'y': 0.0619789648515685, 'z': -0.009370297744199492}, 'v': {'vx': 0.000458789198953241, 'vy': -0.0007383344310993475, 'vz': -5.728089349015962e-05}}, 'Janus': {'r': {'x': -0.000985757340868391, 'y': 0.0002162732654808201, 'z': -1.477806168486244e-05}, 'v': {'vx': -0.001755185123742173, 'vy': -0.007911725035059186, 'vz': 0.004304631030921846}}, 'Epimetheus': {'r': {'x': 8.772951499255995e-05, 'y': -0.0008968585661200452, 'z': 0.0004614181608303623}, 'v': {'vx': 0.009096940124676376, 'vy': 0.0003899242650068129, 'vz': -0.00114998924150136}}, 'Helene': {'r': {'x': -0.001912426166944635, 'y': 0.001530796853379023, 'z': -0.0006270403623064016}, 'v': {'vx': -0.003781836898723744, 'vy': -0.003709243112929055, 'vz': 0.002301540000768455}}, 'Telesto': {'r': {'x': 0.001187765703402476, 'y': -0.001452178540821988, 'z': 0.0006082069143057168}, 'v': {'vx': 0.005200919665288691, 'vy': 0.003348163507370077, 'vz': -0.002169984584283033}}, 'Calypso': {'r': {'x': -0.001923308832064321, 'y': -0.0002233802727114526, 'z': 0.0003602178841318106}, 'v': {'vx': 0.001197897447865876, 'vy': -0.005773788115203776, 'vz': 0.002864810109369237}}, 'Atlas': {'r': {'x': -0.0004653144804114374, 'y': -0.0006859213406928697, 'z': 0.0004044799342155863}, 'v': {'vx': 0.008237838147648982, 'vy': -0.004654028411781043, 'vz': 0.001641043269556796}}, 'Prometheus': {'r': {'x': -0.0009255298967400379, 'y': -4.277787620329286e-05, 'z': 0.0001119949718835603}, 'v': {'vx': 0.000900713134457459, 'vy': -0.008439037361385142, 'vz': 0.004333266869621769}}, 'Pandora': {'r': {'x': 0.000194806470350764, 'y': 0.0008136503900190649, 'z': -0.0004461682656477497}, 'v': {'vx': -0.00921390374427999, 'vy': 0.002059052215944228, 'vz': -0.000184641266157568}}, 'Pan': {'r': {'x': -0.0001424257905256442, 'y': -0.0007767092554332113, 'z': 0.0004207540185977648}, 'v': {'vx': 0.00959532701400712, 'vy': -0.001771264895473296, 'vz': -1.500828413268378e-06}}}\n"
     ]
    }
   ],
   "source": [
    "print(moon_vectors)"
   ]
  },
  {
   "cell_type": "code",
   "execution_count": 67,
   "metadata": {},
   "outputs": [
    {
     "name": "stderr",
     "output_type": "stream",
     "text": [
      "WARNING: AstropyDeprecationWarning: ``id_type``s 'majorbody' and 'id' are deprecated and replaced with ``None``, which has the same functionality. [astroquery.jplhorizons.core]\n",
      "WARNING: AstropyDeprecationWarning: ``id_type``s 'majorbody' and 'id' are deprecated and replaced with ``None``, which has the same functionality. [astroquery.jplhorizons.core]\n",
      "WARNING: AstropyDeprecationWarning: ``id_type``s 'majorbody' and 'id' are deprecated and replaced with ``None``, which has the same functionality. [astroquery.jplhorizons.core]\n",
      "WARNING: AstropyDeprecationWarning: ``id_type``s 'majorbody' and 'id' are deprecated and replaced with ``None``, which has the same functionality. [astroquery.jplhorizons.core]\n",
      "WARNING: AstropyDeprecationWarning: ``id_type``s 'majorbody' and 'id' are deprecated and replaced with ``None``, which has the same functionality. [astroquery.jplhorizons.core]\n",
      "WARNING: AstropyDeprecationWarning: ``id_type``s 'majorbody' and 'id' are deprecated and replaced with ``None``, which has the same functionality. [astroquery.jplhorizons.core]\n",
      "WARNING: AstropyDeprecationWarning: ``id_type``s 'majorbody' and 'id' are deprecated and replaced with ``None``, which has the same functionality. [astroquery.jplhorizons.core]\n",
      "WARNING: AstropyDeprecationWarning: ``id_type``s 'majorbody' and 'id' are deprecated and replaced with ``None``, which has the same functionality. [astroquery.jplhorizons.core]\n",
      "WARNING: AstropyDeprecationWarning: ``id_type``s 'majorbody' and 'id' are deprecated and replaced with ``None``, which has the same functionality. [astroquery.jplhorizons.core]\n",
      "WARNING: AstropyDeprecationWarning: ``id_type``s 'majorbody' and 'id' are deprecated and replaced with ``None``, which has the same functionality. [astroquery.jplhorizons.core]\n",
      "WARNING: AstropyDeprecationWarning: ``id_type``s 'majorbody' and 'id' are deprecated and replaced with ``None``, which has the same functionality. [astroquery.jplhorizons.core]\n",
      "WARNING: AstropyDeprecationWarning: ``id_type``s 'majorbody' and 'id' are deprecated and replaced with ``None``, which has the same functionality. [astroquery.jplhorizons.core]\n",
      "WARNING: AstropyDeprecationWarning: ``id_type``s 'majorbody' and 'id' are deprecated and replaced with ``None``, which has the same functionality. [astroquery.jplhorizons.core]\n",
      "WARNING: AstropyDeprecationWarning: ``id_type``s 'majorbody' and 'id' are deprecated and replaced with ``None``, which has the same functionality. [astroquery.jplhorizons.core]\n",
      "WARNING: AstropyDeprecationWarning: ``id_type``s 'majorbody' and 'id' are deprecated and replaced with ``None``, which has the same functionality. [astroquery.jplhorizons.core]\n",
      "WARNING: AstropyDeprecationWarning: ``id_type``s 'majorbody' and 'id' are deprecated and replaced with ``None``, which has the same functionality. [astroquery.jplhorizons.core]\n",
      "WARNING: AstropyDeprecationWarning: ``id_type``s 'majorbody' and 'id' are deprecated and replaced with ``None``, which has the same functionality. [astroquery.jplhorizons.core]\n",
      "WARNING: AstropyDeprecationWarning: ``id_type``s 'majorbody' and 'id' are deprecated and replaced with ``None``, which has the same functionality. [astroquery.jplhorizons.core]\n",
      "WARNING: AstropyDeprecationWarning: ``id_type``s 'majorbody' and 'id' are deprecated and replaced with ``None``, which has the same functionality. [astroquery.jplhorizons.core]\n"
     ]
    }
   ],
   "source": [
    "saturn_moons_ids = {\n",
    "    \"Saturn\":699,\n",
    "    \"Mimas\": 601,\n",
    "    \"Enceladus\": 602,\n",
    "    \"Tethys\": 603,\n",
    "    \"Dione\": 604,\n",
    "    \"Rhea\": 605,\n",
    "    \"Titan\": 606,\n",
    "    \"Hyperion\": 607,\n",
    "    \"Iapetus\": 608,\n",
    "    \"Phoebe\": 609,\n",
    "    \"Janus\": 610,\n",
    "    \"Epimetheus\": 611,\n",
    "    \"Helene\": 612,\n",
    "    \"Telesto\": 613,\n",
    "    \"Calypso\": 614,\n",
    "    \"Atlas\": 615,\n",
    "    \"Prometheus\": 616,\n",
    "    \"Pandora\": 617,\n",
    "    \"Pan\": 618,\n",
    "    \"Daphnis\": 635\n",
    "\n",
    "}\n",
    "def get_saturn_moons_axes(saturn_moons_ids, epoch):\n",
    "    \"\"\"\n",
    "    Get position and velocity vectors for Saturn's moons relative to Saturn.\n",
    "    \n",
    "    Parameters:\n",
    "        saturn_moons_ids (dict): Dictionary of moon names and their Horizons IDs.\n",
    "        epoch (list): Julian date(s) or list of calendar dates to query.\n",
    "        \n",
    "    Returns:\n",
    "        dict: Nested dictionary with moon names as keys and position/velocity vectors as values.\n",
    "    \"\"\"\n",
    "    results = {}\n",
    "    center_id = '500@6'  # Center of the system is Saturn\n",
    "    \n",
    "    for moon, target_id in saturn_moons_ids.items():\n",
    "        # Query the Horizons database for each moon\n",
    "        moon_data = Horizons(id=target_id, location=center_id, epochs=epoch, id_type='id')\n",
    "        a = moon_data.elements()[\"a\"]\n",
    "        # Extract position and velocity vectors\n",
    "        # Add to the results dictionary\n",
    "        results[moon] = a\n",
    "    return results\n",
    "axes = get_saturn_moons_axes(saturn_moons_ids, epoch)"
   ]
  },
  {
   "cell_type": "code",
   "execution_count": 66,
   "metadata": {},
   "outputs": [
    {
     "name": "stderr",
     "output_type": "stream",
     "text": [
      "WARNING: AstropyDeprecationWarning: ``id_type``s 'majorbody' and 'id' are deprecated and replaced with ``None``, which has the same functionality. [astroquery.jplhorizons.core]\n"
     ]
    },
    {
     "data": {
      "text/plain": [
       "'API VERSION: 1.2\\nAPI SOURCE: NASA/JPL Horizons API\\n\\n*******************************************************************************\\n Revised: Jan 26, 2022              Titan / (Saturn)                        606\\n                         http://ssd.jpl.nasa.gov/?sat_phys_par\\n                           http://ssd.jpl.nasa.gov/?sat_elem\\n\\n SATELLITE PHYSICAL PROPERTIES:\\n  Mean Radius (km)       = 2575.5   +-  2.0  Density (g/cm^3) =  1.880 +- 0.004\\n  Mass (10^19 kg)        = 13455.3           Geometric Albedo =  0.2 \\n  GM (km^3/s^2)          = 8978.14  +-  0.06  V(1,0)          = -1.2 \\n\\n SATELLITE ORBITAL DATA:\\n  Semi-major axis, a (km)= 1221.87 (10^3)  Orbital period     = 15.945421 d\\n  Eccentricity, e        = 0.0288          Rotational period  = \\n  Inclination, i  (deg)  = 0.28\\n*******************************************************************************\\n\\n\\n*******************************************************************************\\nEphemeris / API_USER Fri Dec 13 11:40:42 2024 Pasadena, USA      / Horizons    \\n*******************************************************************************\\nTarget body name: Titan (606)                     {source: sat441l}\\nCenter body name: Earth (399)                     {source: DE441}\\nCenter-site name: Lowell Observatory-LONEOS\\n*******************************************************************************\\nStart time      : A.D. 2017-Nov-18 00:00:00.0000 UT      \\nStop  time      : A.D. 2017-Nov-18 00:00:00.5000 UT      \\nStep-size       : 0 steps\\n*******************************************************************************\\nTarget pole/equ : IAU_TITAN                       {West-longitude positive}\\nTarget radii    : 2575.15, 2574.78, 2574.47 km    {Equator_a, b, pole_c}       \\nCenter geodetic : 248.4633, 35.0959416, 2.21508   {E-lon(deg),Lat(deg),Alt(km)}\\nCenter cylindric: 248.4633,5226.12681,3647.85432  {E-lon(deg),Dxy(km),Dz(km)}\\nCenter pole/equ : ITRF93                          {East-longitude positive}\\nCenter radii    : 6378.137, 6378.137, 6356.752 km {Equator_a, b, pole_c}       \\nTarget primary  : Saturn\\nVis. interferer : MOON (R_eq= 1737.400) km        {source: DE441}\\nRel. light bend : Sun                             {source: DE441}\\nRel. lght bnd GM: 1.3271E+11 km^3/s^2                                          \\nAtmos refraction: NO (AIRLESS)\\nRA format       : DEG\\nTime format     : BOTH\\nCalendar mode   : Mixed Julian/Gregorian\\nRTS-only print  : NO       \\nEOP file        : eop.241212.p250310                                           \\nEOP coverage    : DATA-BASED 1962-JAN-20 TO 2024-DEC-12. PREDICTS-> 2025-MAR-09\\nUnits conversion: 1 au= 149597870.700 km, c= 299792.458 km/s, 1 day= 86400.0 s \\nTable cut-offs 1: Elevation (-90.0deg=NO ),Airmass (>38.000=NO), Daylight (NO )\\nTable cut-offs 2: Solar elongation (  0.0,180.0=NO ),Local Hour Angle( 0.0=NO )\\nTable cut-offs 3: RA/DEC angular rate (     0.0=NO )                           \\nTable format    : Comma Separated Values (spreadsheet)\\n**************************************************************************************************************************************************************************************************************************************************************************************************************************************************************************************************************************************************************************************************************************************************************************************************************************************************************************************************************************************************************************************************************************************************************************************************************************************************************************\\n Date__(UT)__HR:MN:SC.fff, Date_________JDUT, , , R.A._(ICRF), DEC_(ICRF), R.A._(a-app), DEC_(a-app),  dRA*cosD, d(DEC)/dt, Azi_(a-app), Elev_(a-app),  dAZ*cosE, d(ELV)/dt,   X_(sat-prim), Y_(sat-prim), SatPANG,  L_Ap_Sid_Time,  a-mass, mag_ex,    APmag,  S-brt,      Illu%,  Def_illu,  ang-sep, vis.,  Ang-diam,  ObsSub-LON, ObsSub-LAT,  SunSub-LON, SunSub-LAT,  SN.ang,  SN.dist,    NP.ang,  NP.dist,  hEcl-Lon,hEcl-Lat,                r,       rdot,             delta,     deldot,  1-way_down_LT,       VmagSn,     VmagOb,     S-O-T,/r,     S-T-O,  T-O-M, MN_Illu%,     O-P-T,    PsAng,   PsAMV,      PlAng,  Cnst,        TDB-UT,     ObsEcLon,   ObsEcLat,  N.Pole-RA, N.Pole-DC,      GlxLon,    GlxLat,  L_Ap_SOL_Time,  399_ins_LT,  RA_3sigma, DEC_3sigma,  SMAA_3sig, SMIA_3sig,   Theta, Area_3sig,  POS_3sigma,  RNG_3sigma, RNGRT_3sig,   DOP_S_3sig, DOP_X_3sig, RT_delay_3sig,  Tru_Anom,  L_Ap_Hour_Ang,       phi,  PAB-LON,  PAB-LAT,\\n**************************************************************************************************************************************************************************************************************************************************************************************************************************************************************************************************************************************************************************************************************************************************************************************************************************************************************************************************************************************************************************************************************************************************************************************************************************************************************************\\n$$SOE\\n 2017-Nov-18 00:00:00.000, 2458075.500000000,*,m,   265.80240,  -22.42003,    266.06326,   -22.42481,  16.80834,  -1.83271,  219.256005,    21.296154,    690.84,   -467.11,        140.189,       13.295,  84.591,  20.3794517593,   2.731,  0.419,    9.003,  7.808,   99.93780,    0.0004, 140.8195,    *,  0.651140,   65.585697,  26.881567,   62.403215,  26.581891,  269.92,     0.02,    5.2177,    0.290,  268.9794,  1.0429,   10.06695471039, -4.5833767,  10.9058040240296, 10.0748424,    90.70080633,   12.6288584, 38.4900425,   30.5444,/T,    2.8632,   36.6,   0.4142,  110.2569,   90.037, 285.975,    0.77255,   Oph,     69.182798,  266.3608545,  0.9604412,   39.48270,  83.42790,    5.275374,  3.869741,  16.8125658533,    0.000354,       n.a.,       n.a.,       n.a.,      n.a.,    n.a.,      n.a.,        n.a.,        n.a.,       n.a.,         n.a.,       n.a.,          n.a.,      n.a.,    2.641901342,    2.8583, 267.5484,   1.0034,\\n$$EOE\\n**************************************************************************************************************************************************************************************************************************************************************************************************************************************************************************************************************************************************************************************************************************************************************************************************************************************************************************************************************************************************************************************************************************************************************************************************************************************************************************\\nColumn meaning:\\n \\nTIME\\n\\n  Times PRIOR to 1962 are UT1, a mean-solar time closely related to the\\nprior but now-deprecated GMT. Times AFTER 1962 are in UTC, the current\\ncivil or \"wall-clock\" time-scale. UTC is kept within 0.9 seconds of UT1\\nusing integer leap-seconds for 1972 and later years.\\n\\n  Conversion from the internal Barycentric Dynamical Time (TDB) of solar\\nsystem dynamics to the non-uniform civil UT time-scale requested for output\\nhas not been determined for UTC times after the next July or January 1st.\\nTherefore, the last known leap-second is used as a constant over future\\nintervals.\\n\\n  Time tags refer to the UT time-scale conversion from TDB on Earth\\nregardless of observer location within the solar system, although clock\\nrates may differ due to the local gravity field and no analog to \"UT\"\\nmay be defined for that location.\\n\\n  Any \\'b\\' symbol in the 1st-column denotes a B.C. date. First-column blank\\n(\" \") denotes an A.D. date.\\n \\nCALENDAR SYSTEM\\n\\n  Mixed calendar mode was active such that calendar dates after AD 1582-Oct-15\\n(if any) are in the modern Gregorian system. Dates prior to 1582-Oct-5 (if any)\\nare in the Julian calendar system, which is automatically extended for dates\\nprior to its adoption on 45-Jan-1 BC.  The Julian calendar is useful for\\nmatching historical dates. The Gregorian calendar more accurately corresponds\\nto the Earth\\'s orbital motion and seasons. A \"Gregorian-only\" calendar mode is\\navailable if such physical events are the primary interest.\\n\\n  NOTE: \"n.a.\" in output means quantity \"not available\" at the print-time.\\n \\nSOLAR PRESENCE (OBSERVING SITE)\\n  Time tag is followed by a blank, then a solar-presence condition code:\\n\\n       \\'*\\'  Daylight (refracted solar upper-limb on or above apparent horizon)\\n       \\'C\\'  Civil twilight/dawn\\n       \\'N\\'  Nautical twilight/dawn\\n       \\'A\\'  Astronomical twilight/dawn\\n       \\' \\'  Night OR geocentric ephemeris\\n\\nLUNAR PRESENCE WITH TARGET RISE/TRANSIT/SET EVENT MARKER (OBSERVING SITE)\\n  The solar-presence code column is immediately followed by another marker:\\n\\n       \\'m\\'  Refracted upper-limb of Moon on or above apparent horizon\\n       \\' \\'  Refracted upper-limb of Moon below apparent horizon OR geocentric\\n\\n  The lunar presence marker (an ongoing state) can be over-ridden by a target\\n  event marker if an event has occurred since the last output step:\\n\\n       \\'r\\'  Rise          (target body on or went above cut-off RTS elevation)\\n       \\'e\\'  Elevation max (target body maximum elevation angle has occurred)\\n       \\'t\\'  Transit       (target body at or passed through observer meridian)\\n       \\'s\\'  Set           (target body on or went below cut-off RTS elevation)\\n \\nRTS MARKERS (TVH)\\n  Rise and set are with respect to the reference ellipsoid true visual horizon\\ndefined by the elevation cut-off angle. Horizon dip and yellow-light refraction\\n(Earth only) are considered. Accuracy is < or = to twice the requested search\\nstep-size.\\n \\n \\'R.A._(ICRF), DEC_(ICRF),\\' =\\n  Astrometric right ascension and declination of the target center with\\nrespect to the observing site (coordinate origin) in the reference frame of\\nthe planetary ephemeris (ICRF). Compensated for down-leg light-time delay\\naberration.\\n\\n  Units: RA  in decimal degrees,  ddd.fffff{ffff}\\n         DEC in decimal degrees,  sdd.fffff{ffff}\\n \\n \\'R.A._(a-app), DEC_(a-app),\\' =\\n  Airless apparent right ascension and declination of the target center\\nwith respect to an instantaneous reference frame defined by the Earth equator\\nof-date (z-axis) and meridian containing the Earth equinox of-date (x-axis,\\nEOP-corrected IAU76/80). Compensated for down-leg light-time delay,\\ngravitational deflection of light, stellar aberration, precession & nutation.\\nNote: equinox (RA origin) is offset -53 mas from the of-date frame defined by\\nthe IAU06/00a P & N system.\\n\\n  Units: RA  in decimal degrees, ddd.fffff{ffff}\\n         DEC in decimal degrees  sdd.fffff{ffff}\\n\\n \\n \\'dRA*cosD, d(DEC)/dt,\\' =\\n  The angular rate of change in aparent RA and DEC of the target. This is\\nwith respect to the non-inertial IAU76/80 Earth true equator and equinox\\nof-date reference frame.  d(RA)/dt is multiplied by the cosine of declination\\nto provide a linear rate in the plane-of-sky. Units: ARCSECONDS PER HOUR\\n \\n \\'Azi_(a-app), Elev_(a-app),\\' =\\n  Airless apparent azimuth and elevation of target center. Compensated\\nfor light-time, the gravitational deflection of light, stellar aberration,\\nprecession and nutation. Azimuth is measured clockwise from north:\\n\\n  North(0) -> East(90) -> South(180) -> West(270) -> North (360)\\n\\nElevation angle is with respect to a plane perpendicular to the reference\\nsurface local zenith direction. TOPOCENTRIC ONLY.  Units: DEGREES\\n \\n \\'dAZ*cosE, d(ELV)/dt,\\' =\\n   The rate of change of target center apparent azimuth and elevation\\n(airless). d(AZ)/dt is multiplied by the cosine of the elevation angle.\\nTOPOCENTRIC ONLY. Units: ARCSECOND PER MINUTE\\n \\n \\'X_(sat-prim), Y_(sat-prim), SatPANG,\\' =\\n   Satellite apparent differential coordinates in the plane-of-sky with\\nrespect to the primary body along with the satellite position angle.\\nDifferential coordinates are defined in RA as:\\n\\n     X= ((RA_sat - RA_primary) * cosine(DEC_primary))\\n\\n... and in DEC as:\\n\\n     Y= (DEC_sat - DEC_primary)\\n\\nNon-lunar satellites only. \"SatPANG\" is the counter-clockwise (CCW) position\\nangle from the reference-frame of-date north-pole to a line from the primary\\ncenter to the satellite center. Units: ARCSECONDS (X & Y), DEGREES (pos, angle)\\n \\n \\'L_Ap_Sid_Time,\\' =\\n   Local Apparent Sidereal Time. The angle measured westward in the body\\ntrue-equator of-date plane from the meridian containing the body-fixed\\nobserver to the meridian containing the true Earth equinox (defined by\\nintersection of the true Earth equator of date with the ecliptic of date).\\nTOPOCENTRIC ONLY. Units: HH.fffffffffff  (decimal hours)\\n \\n \\'a-mass, mag_ex,\\' =\\n    RELATIVE optical airmass and visual magnitude extinction. Airmass is the\\nratio between the absolute optical airmass for the targets\\' refracted CENTER\\npoint to the absolute optical airmass at zenith. Also output is the estimated\\nvisual magnitude extinction due to the atmosphere, as seen by the observer.\\nAVAILABLE ONLY FOR TOPOCENTRIC EARTH SITES WHEN THE TARGET IS ABOVE THE\\nHORIZON.  Units: none (airmass) and magnitudes (extinction).\\n \\n \\'APmag,  S-brt,\\' =\\n  The targets\\' approximate apparent visual magnitude and surface brightness.\\nFor planets and natural satellites, output is restricted to solar phase angles\\ncovered by observational data. Outside the observed phase angle range, \"n.a.\"\\nmay be output to avoid extrapolation beyond the limit of model validity.\\n\\n   For Earth-based observers, the estimated dimming due to atmospheric\\nabsorption (extinction) is available as a separate, requestable quantity.\\n\\n   Surface brightness is the average airless visual magnitude of a\\nsquare-arcsecond of the illuminated portion of the apparent disk. It is\\ncomputed only if the target radius is known.\\n\\n   Units: MAGNITUDES & MAGNITUDES PER SQUARE ARCSECOND\\n \\n \\'Illu%,\\' =\\n   Fraction of the target objects\\' assumed circular disk illuminated by Sun\\n(phase), as seen by the observer.  Units: PERCENT\\n \\n \\'Def_illu,\\' =\\n   Defect of illumination. The maximum angular width of the target body\\'s\\nassumed circular disk diameter NOT illuminated by the Sun. Units: ARCSECONDS\\n \\n \\'ang-sep, vis.,\\' =\\n  The angular separation between the center of the target object and the center\\nof the (remote) primary body it revolves around, as seen by the observer, with\\ntarget visibility code.\\n\\n  Visibility codes (refers to limb-to-limb):\\n\\n    /t = Transiting primary body disk    /O = Occulted by primary body disk\\n    /p = Partial umbral eclipse          /P = Occulted partial umbral eclipse\\n    /u = Total umbral eclipse            /U = Occulted total umbral eclipse\\n    /- = Target is the primary body      /* = None of above (\"free and clear\")\\n\\n  The radius of both primary and target body is taken to be the equatorial\\nvalue (maximum, given a triaxial shape). Atmospheric effects and oblateness\\naspect are NOT currently considered.  Light-time is considered.\\n\\n  Units: ARCSECONDS and visibility code\\n \\n \\'Ang-diam,\\' =\\n   The equatorial angular width of the target body full disk, if it were fully\\nilluminated and visible to the observer. If the target body diameter is unknown\\n\"n.a.\" is output.\\n\\n   Units: ARCSECONDS\\n \\n \\'ObsSub-LON, ObsSub-LAT,\\' =\\n   Apparent planetodetic longitude and latitude of the center of the target\\ndisc seen by the OBSERVER at print-time. This is NOT exactly the same as the\\n\"nearest\" sub-point for a non-spherical target shape (since the center of\\nthe disc might not be the point closest to the observer), but is generally\\nvery close if not a very irregular body shape. Down-leg light travel-time\\nfrom target to observer is taken into account. Latitude is the angle between\\nthe equatorial plane and the line perpendicular to the reference ellipsoid of\\nthe body, so includes body oblateness. The reference ellipsoid is an oblate\\nspheroid with a single flatness coefficient in which the y-axis body radius\\nis taken to be the same value as the x-axis radius. Positive longitude is to\\nthe WEST for this target. Cartographic system is given in the header.\\n   Units: DEGREES DEGREES\\n \\n \\'SunSub-LON, SunSub-LAT,\\' =\\n   Apparent sub-solar longitude and latitude of the Sun on the target. The\\napparent planetodetic longitude and latitude of the center of the target disc\\nas seen from the Sun, as seen by the observer at print-time. This is NOT\\nexactly the same as the \"sub-solar\" (nearest) point for a non-spherical target\\nshape (since the center of the disc seen from the Sun might not be the closest\\npoint to the Sun), but is very close if not a highly irregular body shape.\\nLight travel-time from Sun to target and from target to observer is taken into\\naccount.  Latitude is the angle between the equatorial plane and the line\\nperpendicular to the reference ellipsoid of the body. The reference ellipsoid\\nis an oblate spheroid with a single flatness coefficient in which the y-axis\\nbody radius is taken to be the same value as the x-axis radius.  Positive\\nlongitude is to the WEST for this target. Cartographic system is given in the\\nheader.   Units: DEGREES DEGREES\\n \\n \\'SN.ang,  SN.dist,\\' =\\n  Targets\\' apparent sub-solar point position angle (counter-clockwise with\\nrespect to the direction of the true-of-date reference-frame north-pole) and\\nits angular distance from the sub-observer point (center of disk) at print\\ntime. A negative distance indicates the sub-solar point is on the hidden\\nhemisphere.  Units: DEGREES and ARCSECONDS\\n \\n \\'NP.ang,  NP.dist,\\' =\\n  Targets\\' apparent north-pole position angle (counter-clockwise with respect\\nto the direction of the true-of-date reference-frame north-pole) and its\\nangular distance from the sub-observer point (center of disk) at observation\\ntime.  A negative distance indicates the planets\\' north-pole is on the hidden\\nhemisphere.  Units: DEGREES and ARCSECONDS\\n \\n \\'hEcl-Lon,hEcl-Lat,\\' =\\n    Geometric heliocentric J2000 ecliptic longitude and latitude of target\\ncenter at the instant light leaves it to be observed at print time (print time\\nminus down-leg light-time).  Units: DEGREES\\n \\n \\'r,       rdot,\\' =\\n   The Sun\\'s apparent range (\"r\", light-time aberrated) and range-rate (\"rdot\")\\nrelative to the target center, as seen by the observer. A positive \"rdot\" means\\nthe target center was moving away from the Sun, negative means moving toward\\nthe Sun.  Units: AU and KM/S\\n \\n \\'delta,     deldot,\\' =\\n   Apparent range (\"delta\", light-time aberrated) and range-rate (\"delta-dot\")\\nof the target center relative to the observer. A positive \"deldot\" means the\\ntarget center is moving away from the observer, negative indicates movement\\ntoward the observer.  Units: AU and KM/S\\n \\n \\'1-way_down_LT,\\' =\\n   1-way down-leg light-time from target center to observer. The elapsed time\\nsince light (observed at print-time) would have left or reflected off a point\\nat the center of the target. Units: MINUTES\\n \\n \\'VmagSn,     VmagOb,\\' =\\n   Magnitude of target centers\\' velocity with respect to the Sun (\"VmagSn\")\\nand the observer (\"VmagOb\") at the time light left the target center to be\\nobserved (print time minus down-leg light-time). These are absolute values\\nof the velocity vectors (total speeds) and do NOT indicate direction of motion.\\nUnits: KM/S\\n \\n \\'S-O-T,/r,\\' =\\n   Sun-Observer-Target apparent SOLAR ELONGATION ANGLE seen from the observers\\'\\nlocation at print-time.\\n\\n   The \\'/r\\' column provides a code indicating the targets\\' apparent position\\nrelative to the Sun in the observers\\' sky, as described below:\\n\\n   Case A: For an observing location on the surface of a rotating body, that\\nbody rotational sense is considered:\\n\\n    /T indicates target TRAILS Sun   (evening sky: rises and sets AFTER Sun)\\n    /L indicates target LEADS Sun    (morning sky: rises and sets BEFORE Sun)\\n\\n   Case B: For an observing point that does not have a rotational model (such\\nas a spacecraft), the \"leading\" and \"trailing\" condition is defined by the\\nobservers\\' heliocentric ORBITAL motion:\\n\\n    * If continuing in the observers\\' current direction of heliocentric\\n       motion would encounter the targets\\' apparent longitude first, followed\\n       by the Sun\\'s, the target LEADS the Sun as seen by the observer.\\n\\n    * If the Sun\\'s apparent longitude would be encountered first, followed\\n       by the targets\\', the target TRAILS the Sun.\\n\\n   Two other codes can be output:\\n    /* indicates observer is Sun-centered    (undefined)\\n    /? Target is aligned with Sun center     (no lead or trail)\\n\\n   The S-O-T solar elongation angle is numerically the minimum separation\\nangle of the Sun and target in the sky in any direction. It does NOT indicate\\nthe amount of separation in the leading or trailing directions, which would\\nbe defined along the equator of a spherical coordinate system.\\n\\n   Units: DEGREES\\n \\n \\'S-T-O,\\' =\\n   The Sun-Target-Observer angle; the interior vertex angle at target center\\nformed by a vector from the target to the apparent center of the Sun (at\\nreflection time on the target) and the apparent vector from target to the\\nobserver at print-time. Slightly different from true PHASE ANGLE (requestable\\nseparately) at the few arcsecond level in that it includes stellar aberration\\non the down-leg from target to observer.  Units: DEGREES\\n \\n \\'T-O-M, MN_Illu%,\\' =\\n   Target-Observer-Moon LUNAR ELONGATION angle and illuminated percentage.\\nThe apparent lunar elongation angle between target body center and Moon\\ncenter, seen from the observing site, along with fraction of the lunar disk\\nilluminated by the Sun. A negative lunar elongation angle indicates the target\\ncenter is behind the Moon.  Units: DEGREES & PERCENT\\n \\n \\'O-P-T,\\' =\\n   Observer-Primary-Target angle; apparent angle between a target satellite,\\nits primarys\\' center and an observer at print time. Interior vertex angle at\\nthe primary.  Units: DEGREES\\n \\n \\'PsAng,   PsAMV,\\' =\\n   The position angles of the extended Sun-to-target radius vector (\"PsAng\")\\nand the negative of the targets\\' heliocentric velocity vector (\"PsAMV\"), as\\nseen in the observers\\' plane-of-sky, measured counter-clockwise (east) from\\nreference-frame north-pole. Primarily intended for ACTIVE COMETS, \"PsAng\"\\nis an indicator of the comets\\' gas-tail orientation in the sky (being in the\\nanti-sunward direction) while \"PsAMV\" is an indicator of dust-tail orientation.\\nUnits: DEGREES\\n \\n \\'PlAng,\\' =\\n   Angle between observer and target orbital plane, measured from center\\nof target at the moment light seen at observation time leaves the target.\\nPositive values indicate observer is above the objects\\' orbital plane, in\\nthe direction of reference-frame +z axis.  Units: DEGREES\\n \\n \\'Cnst,\\' =\\n   Constellation ID; the 3-letter abbreviation for the name of the\\nconstellation containing the target centers\\' astrometric position,\\nas defined by IAU (1930) boundary delineation.  See documentation\\nfor list of abbreviations.\\n \\n \\'TDB-UT,\\' =\\n   Difference between the uniform Barycentric Dynamical time-scale and the\\nEarth-rotation dependent Universal Time. Prior to 1962, the difference is with\\nrespect to UT1 (TDB-UT1) and the 0.002 second maximum amplitude distinction\\nbetween TT and TDB is not maintained. For 1962 and later, the difference is\\nwith respect to UTC (TDB-UTC) and periodic terms less than 1.e-6 second are\\nignored. Values beyond the next July or January 1st may change if a leap-second\\nis later required by the IERS. Values from the present date forward through\\nthe next ~78 days are predictions. Beyond that prediction interval, the last\\nprediction is taken as a constant for all future dates. Units: SECONDS\\n \\n \\'ObsEcLon,   ObsEcLat,\\' =\\n   Observer-centered IAU76/80 ecliptic-of-date longitude and latitude of the\\ntarget centers\\' apparent position, with light-time, gravitational deflection of\\nlight, and stellar aberrations.  Units: DEGREES\\n \\n \\'N.Pole-RA, N.Pole-DC,\\' =\\n    ICRF right ascension and declination of the target body\\'s north-pole\\ndirection at the time light left the body to be observed at print time.\\nTarget pole/rotation model is given in the header. Units: DEGREES\\n \\n \\'GlxLon,    GlxLat,\\' =\\n   Observer-centered Galactic System II (post WW II) longitude and latitude\\nof the target centers\\' apparent position, with light-time, gravitational\\ndeflection of light, and stellar aberrations. Units: DEGREES\\n \\n \\'L_Ap_SOL_Time,\\' =\\n   Local Apparent SOLAR Time at observing site. This is the time indicated by\\na sundial. TOPOCENTRIC ONLY.  Units: HH.fffffffffff  (decimal angular hours)\\n \\n \\'399_ins_LT,\\' =\\n   Instantaneous light-time of the station with respect to Earth center at\\nprint-time. The geometric (or \"true\") separation of site and Earth center,\\ndivided by the speed of light.  Units: MINUTES\\n \\n \\'RA_3sigma, DEC_3sigma,\\' =\\n  Uncertainty in Right-Ascension and Declination. Output values are the formal\\n+/- 3 standard-deviations (sigmas) around nominal position. Units: ARCSECONDS\\n \\n \\'SMAA_3sig, SMIA_3sig,   Theta, Area_3sig,\\' =\\n  Plane-of-sky (POS) error ellipse data. These quantities summarize the\\ntargets\\' 3-dimensional 3-standard-deviation formal uncertainty volume projected\\ninto a reference plane perpendicular to the observers\\' line-of-sight.\\n\\n   SMAA_3sig = Angular width of the 3-sigma error ellipse semi-major\\n                axis in POS. Units: ARCSECONDS.\\n\\n   SMIA_3sig = Angular width of the 3-sigma error ellipse semi-minor\\n                axis in POS. Units: ARCSECONDS.\\n\\n   Theta     = Orientation angle of the error ellipse in POS; the\\n                clockwise angle from the direction of increasing RA to\\n                the semi-major axis of the error ellipse, in the\\n                direction of increasing DEC.  Units: DEGREES.\\n\\n   Area_3sig = Area of sky enclosed by the 3-sigma error ellipse.\\n                Units: ARCSECONDS ^ 2.\\n \\n \\'POS_3sigma,\\' =\\n  The Root-Sum-of-Squares (RSS) of the 3-standard deviation plane-of-sky\\nerror ellipse major and minor semi-axes. This single pointing uncertainty\\nnumber gives an angular distance (a circular radius) from the targets\\'\\nnominal position in the sky that encompasses the error-ellipse.\\nUnits: ARCSECONDS.\\n \\n \\'RNG_3sigma, RNGRT_3sig,\\' =\\n  Range and range rate (radial velocity) formal 3-standard-deviation\\nuncertainties.  Units: KM, KM/S\\n \\n \\'DOP_S_3sig, DOP_X_3sig, RT_delay_3sig,\\' =\\n  Doppler radar uncertainties at S-band (2380 MHz) and X-band (8560 MHz)\\nfrequencies, along with the round-trip (total) delay to first-order.\\nUnits: HERTZ and SECONDS\\n \\n \\'Tru_Anom,\\' =\\n   Apparent true anomaly angle of the targets\\' heliocentric orbit position;\\nthe angle in the targets\\' instantaneous orbit plane from the orbital periapse\\ndirection to the target, measured positively in the direction of motion.\\nThe position of the target is taken to be at the moment light seen by the\\nobserver at print-time would have left the center of the object. That is,\\nthe heliocentric position of the target used to compute the true anomaly is\\none down-leg light-time prior to the print-time. Units: DEGREES\\n \\n \\'L_Ap_Hour_Ang,\\' =\\n   Local apparent HOUR ANGLE of target at observing site. The angle between the\\nobservers\\' meridian plane, containing Earth\\'s axis of-date and local zenith\\ndirection, and a great circle passing through Earth\\'s axis-of-date and the\\ntargets\\' direction, measured westward from the zenith meridian to target\\nmeridian along the equator. Negative values are angular times UNTIL transit.\\nPositive values are angular times SINCE transit. Exactly 24_hrs/360_degrees.\\nEARTH TOPOCENTRIC ONLY.  Units: sHH.fffffffff  (decimal angular hours)\\n \\n \\'phi,  PAB-LON,  PAB-LAT,\\' =\\n   \"phi\" is the true PHASE ANGLE at the observers\\' location at print time.\\n\"PAB-LON\" and \"PAB-LAT\" are the J2000 ecliptic longitude and latitude of the\\nphase angle bisector direction; the outward directed angle bisecting the arc\\ncreated by the apparent vector from Sun to target center and the astrometric\\nvector from observer to target center. For an otherwise uniform ellipsoid, the\\ntime when its long-axis is perpendicular to the PAB direction approximately\\ncorresponds to lightcurve maximum (or maximum brightness) of the body. PAB is\\ndiscussed in Harris et al., Icarus 57, 251-258 (1984).\\n\\n   Units: DEGREES, DEGREES, DEGREES\\n\\nComputations by ...\\n\\n    Solar System Dynamics Group, Horizons On-Line Ephemeris System\\n    4800 Oak Grove Drive, Jet Propulsion Laboratory\\n    Pasadena, CA  91109   USA\\n\\n    General site: https://ssd.jpl.nasa.gov/\\n    Mailing list: https://ssd.jpl.nasa.gov/email_list.html\\n    System news : https://ssd.jpl.nasa.gov/horizons/news.html\\n    User Guide  : https://ssd.jpl.nasa.gov/horizons/manual.html\\n    Connect     : browser        https://ssd.jpl.nasa.gov/horizons/app.html#/x\\n                  API            https://ssd-api.jpl.nasa.gov/doc/horizons.html\\n                  command-line   telnet ssd.jpl.nasa.gov 6775\\n                  e-mail/batch   https://ssd.jpl.nasa.gov/ftp/ssd/hrzn_batch.txt\\n                  scripts        https://ssd.jpl.nasa.gov/ftp/ssd/SCRIPTS\\n    Author      : Jon.D.Giorgini@jpl.nasa.gov\\n\\n**************************************************************************************************************************************************************************************************************************************************************************************************************************************************************************************************************************************************************************************************************************************************************************************************************************************************************************************************************************************************************************************************************************************************************************************************************************************************************************\\n'"
      ]
     },
     "execution_count": 66,
     "metadata": {},
     "output_type": "execute_result"
    }
   ],
   "source": [
    "center_id=699\n",
    "target_id=606\n",
    "moon_data = Horizons(id=target_id, location=center_id, epochs=epoch, id_type='id')\n",
    "a = moon_data.ephemerides_async().text\n",
    "# Extract position and velocity vectors\n",
    "# Add to the results dictionary\n",
    "a"
   ]
  },
  {
   "cell_type": "code",
   "execution_count": 68,
   "metadata": {},
   "outputs": [
    {
     "name": "stdout",
     "output_type": "stream",
     "text": [
      "Saturn 27.55319583075099\n",
      "Mimas 28.20040106833222\n",
      "Enceladus 28.05390042077023\n",
      "Tethys 29.1296700032439\n",
      "Dione 28.05398933672623\n",
      "Rhea 27.79988928762227\n",
      "Titan 27.69419896083096\n",
      "Hyperion 27.0114684174443\n",
      "Iapetus 17.07634034369347\n",
      "Phoebe 173.1037137850952\n",
      "Janus 28.08878901844018\n",
      "Epimetheus 27.89929287777688\n",
      "Helene 28.12470856316967\n",
      "Telesto 29.14139457994581\n",
      "Calypso 28.77158007519501\n",
      "Atlas 28.04852032509543\n",
      "Prometheus 28.05792311326371\n",
      "Pandora 28.02328479181762\n",
      "Pan 28.05019998793155\n",
      "Daphnis 28.05102166328638\n"
     ]
    }
   ],
   "source": [
    "for i,j in incls.items():\n",
    "    print(i,j[0])"
   ]
  },
  {
   "cell_type": "code",
   "execution_count": 69,
   "metadata": {},
   "outputs": [
    {
     "data": {
      "text/plain": [
       "{'Saturn': <MaskedColumn name='a' dtype='float64' unit='AU' length=1>\n",
       " 1.981980162375801e-06,\n",
       " 'Mimas': <MaskedColumn name='a' dtype='float64' unit='AU' length=1>\n",
       " 0.001243626572807922,\n",
       " 'Enceladus': <MaskedColumn name='a' dtype='float64' unit='AU' length=1>\n",
       " 0.001589125491720847,\n",
       " 'Tethys': <MaskedColumn name='a' dtype='float64' unit='AU' length=1>\n",
       " 0.001971761593098008,\n",
       " 'Dione': <MaskedColumn name='a' dtype='float64' unit='AU' length=1>\n",
       " 0.00251926166699193,\n",
       " 'Rhea': <MaskedColumn name='a' dtype='float64' unit='AU' length=1>\n",
       " 0.003520970809906898,\n",
       " 'Titan': <MaskedColumn name='a' dtype='float64' unit='AU' length=1>\n",
       " 0.008166028133158301,\n",
       " 'Hyperion': <MaskedColumn name='a' dtype='float64' unit='AU' length=1>\n",
       " 0.009938258628684544,\n",
       " 'Iapetus': <MaskedColumn name='a' dtype='float64' unit='AU' length=1>\n",
       " 0.02380156152067491,\n",
       " 'Phoebe': <MaskedColumn name='a' dtype='float64' unit='AU' length=1>\n",
       " 0.0865742861146399,\n",
       " 'Janus': <MaskedColumn name='a' dtype='float64' unit='AU' length=1>\n",
       " 0.001016820790611047,\n",
       " 'Epimetheus': <MaskedColumn name='a' dtype='float64' unit='AU' length=1>\n",
       " 0.00101810592926625,\n",
       " 'Helene': <MaskedColumn name='a' dtype='float64' unit='AU' length=1>\n",
       " 0.0025214199542761,\n",
       " 'Telesto': <MaskedColumn name='a' dtype='float64' unit='AU' length=1>\n",
       " 0.001975267820721114,\n",
       " 'Calypso': <MaskedColumn name='a' dtype='float64' unit='AU' length=1>\n",
       " 0.001968014993927522,\n",
       " 'Atlas': <MaskedColumn name='a' dtype='float64' unit='AU' length=1>\n",
       " 0.0009203596584569687,\n",
       " 'Prometheus': <MaskedColumn name='a' dtype='float64' unit='AU' length=1>\n",
       " 0.0009346399237705015,\n",
       " 'Pandora': <MaskedColumn name='a' dtype='float64' unit='AU' length=1>\n",
       " 0.0009478656355560566,\n",
       " 'Pan': <MaskedColumn name='a' dtype='float64' unit='AU' length=1>\n",
       " 0.0008965866318395171,\n",
       " 'Daphnis': <MaskedColumn name='a' dtype='float64' unit='AU' length=1>\n",
       " 0.0009207802714573251}"
      ]
     },
     "execution_count": 69,
     "metadata": {},
     "output_type": "execute_result"
    }
   ],
   "source": [
    "axes"
   ]
  },
  {
   "cell_type": "code",
   "execution_count": 42,
   "metadata": {},
   "outputs": [
    {
     "name": "stdout",
     "output_type": "stream",
     "text": [
      "Mimas& 3.7e+19 &1.8604e+08\\\\\n",
      "Enceladus& 1.1e+20 &2.3773e+08\\\\\n",
      "Tethys& 6.2e+20 &2.9497e+08\\\\\n",
      "Dione& 1.1e+21 &3.7688e+08\\\\\n",
      "Rhea& 2.3e+21 &5.2673e+08\\\\\n",
      "Titan& 1.3e+23 &1.2216e+09\\\\\n",
      "Hyperion& 5.6e+18 &1.4867e+09\\\\\n",
      "Iapetus& 1.8e+21 &3.5607e+09\\\\\n",
      "Phoebe& 8.3e+18 &1.2951e+10\\\\\n",
      "Janus& 1.9e+18 &1.5211e+08\\\\\n",
      "Epimetheus& 5.3e+17 &1.5231e+08\\\\\n",
      "Helene& 1.2e+17 &3.7720e+08\\\\\n",
      "Telesto& 4.1e+16 &2.9550e+08\\\\\n",
      "Calypso& 4.0e+16 &2.9441e+08\\\\\n",
      "Atlas& 7.0e+16 &1.3768e+08\\\\\n",
      "Prometheus& 1.6e+17 &1.3982e+08\\\\\n",
      "Pandora& 1.4e+17 &1.4180e+08\\\\\n",
      "Pan& 5.0e+15 &1.3413e+08\\\\\n",
      "Daphnis& 6.5e+13 &1.3775e+08\\\\\n"
     ]
    }
   ],
   "source": [
    "for moon,m in saturn_moons_masses.items():\n",
    "    if moon==\"Saturn\": continue\n",
    "    print(f\"{moon}& {m:.1e} &{(axes[moon]*au)[0]:.4e}&{(axes[moon]*au)[0]}\\\\\\\\\")"
   ]
  },
  {
   "cell_type": "code",
   "execution_count": 11,
   "metadata": {},
   "outputs": [
    {
     "data": {
      "text/plain": [
       "{'Mimas': 3.7493e+19,\n",
       " 'Enceladus': 1.08022e+20,\n",
       " 'Tethys': 6.17449e+20,\n",
       " 'Dione': 1.095452e+21,\n",
       " 'Rhea': 2.306518e+21,\n",
       " 'Titan': 1.3452e+23,\n",
       " 'Hyperion': 5.62e+18,\n",
       " 'Iapetus': 1.805635e+21,\n",
       " 'Phoebe': 8.292e+18,\n",
       " 'Janus': 1.898e+18,\n",
       " 'Epimetheus': 5.264e+17,\n",
       " 'Helene': 1.2e+17,\n",
       " 'Telesto': 4.1e+16,\n",
       " 'Calypso': 4e+16,\n",
       " 'Atlas': 7e+16,\n",
       " 'Prometheus': 1.6e+17,\n",
       " 'Pandora': 1.4e+17,\n",
       " 'Pan': 4950000000000000.0}"
      ]
     },
     "execution_count": 11,
     "metadata": {},
     "output_type": "execute_result"
    }
   ],
   "source": [
    "saturn_moons_masses"
   ]
  },
  {
   "cell_type": "code",
   "execution_count": 7,
   "metadata": {},
   "outputs": [],
   "source": [
    "import numpy as np\n",
    "import astropy.constants\n",
    "au=astropy.constants.au"
   ]
  },
  {
   "cell_type": "code",
   "execution_count": 14,
   "metadata": {},
   "outputs": [],
   "source": [
    "system={key:dict() for key in saturn_moons_masses.keys()}\n",
    "for key,item in saturn_moons_masses.items():\n",
    "    system[key][\"m\"]=item\n",
    "    x=[it for k,it in moon_vectors[key][\"r\"].items()]\n",
    "    v=[it for k,it in moon_vectors[key][\"v\"].items()]\n",
    "    system[key][\"x\"]=np.array(np.array(x)*au)\n",
    "    system[key][\"v\"]=np.array(np.array(v)*au/24/60/60)"
   ]
  },
  {
   "cell_type": "code",
   "execution_count": 15,
   "metadata": {},
   "outputs": [
    {
     "data": {
      "text/plain": [
       "{'Saturn': {'m': 5.6834e+26,\n",
       "  'x': array([-269289.17797679,  113172.31502967,  -28958.22586522]),\n",
       "  'v': array([-0.50665837, -1.14360623,  0.63822254])},\n",
       " 'Mimas': {'m': 3.7493e+19,\n",
       "  'x': array([ 5.13197898e+07,  1.56544307e+08, -8.67133604e+07]),\n",
       "  'v': array([-13607.7031699 ,   4106.21402805,  -1275.8958257 ])},\n",
       " 'Enceladus': {'m': 1.08022e+20,\n",
       "  'x': array([ 1.88914312e+08, -1.33039430e+08,  5.14516688e+07]),\n",
       "  'v': array([ 7544.30311294,  8716.5300654 , -5297.66965427])},\n",
       " 'Tethys': {'m': 6.17449e+20,\n",
       "  'x': array([ 8.23922007e+07,  2.44622295e+08, -1.42286268e+08]),\n",
       "  'v': array([-10850.57337858,   3251.93555635,   -716.07948417])},\n",
       " 'Dione': {'m': 1.095452e+21,\n",
       "  'x': array([ 3.45661072e+08, -1.46346443e+08,  4.33772409e+07]),\n",
       "  'v': array([ 3958.38408588,  7978.26790609, -4563.25086898])},\n",
       " 'Rhea': {'m': 2.306518e+21,\n",
       "  'x': array([ 4.08686506e+08,  2.78199869e+08, -1.81760485e+08]),\n",
       "  'v': array([-5302.65490051,  6066.27838925, -2666.16929786])},\n",
       " 'Titan': {'m': 1.3452e+23,\n",
       "  'x': array([ 1.08703566e+09, -4.58730165e+08,  1.28492745e+08]),\n",
       "  'v': array([ 2226.8933015 ,  4601.43875834, -2592.72565702])},\n",
       " 'Hyperion': {'m': 5.62e+18,\n",
       "  'x': array([ 1.00111937e+09,  7.10253721e+08, -4.52090454e+08]),\n",
       "  'v': array([-3497.9769557 ,  4150.41819897, -1740.19317503])},\n",
       " 'Iapetus': {'m': 1.805635e+21,\n",
       "  'x': array([ 3.00862409e+09, -1.74371141e+09, -2.04393884e+08]),\n",
       "  'v': array([1501.85431386, 2821.01484202, -956.20381251])},\n",
       " 'Phoebe': {'m': 8.292e+18,\n",
       "  'x': array([-2.02062582e+09, -1.07799299e+10,  2.05959802e+08]),\n",
       "  'v': array([-1946.91799577,   376.04033254,   236.71005496])},\n",
       " 'Janus': {'m': 1.898e+18,\n",
       "  'x': array([ 3.29558445e+07,  1.28953563e+08, -7.08432398e+07]),\n",
       "  'v': array([-15467.38412329,   3783.79093119,   -535.66322442])},\n",
       " 'Epimetheus': {'m': 5.264e+17,\n",
       "  'x': array([-3.54049208e+06,  1.33641274e+08, -6.94076744e+07]),\n",
       "  'v': array([-15900.3120202 ,    176.58625101,   1339.62461394])},\n",
       " 'Helene': {'m': 1.2e+17,\n",
       "  'x': array([ 2.48512576e+08,  2.42032099e+08, -1.52134979e+08]),\n",
       "  'v': array([-7520.6170727 ,  6100.34802347, -2442.40389338])},\n",
       " 'Telesto': {'m': 4.1e+16,\n",
       "  'x': array([-2.02896961e+08,  1.96529657e+08, -8.50192554e+07]),\n",
       "  'v': array([-8169.3202569 , -6500.73145123,  4454.1002414 ])},\n",
       " 'Calypso': {'m': 4e+16,\n",
       "  'x': array([ 2.83814195e+08,  5.80184067e+07, -5.24719469e+07]),\n",
       "  'v': array([-2916.46837019,  9725.92911088, -5077.56332654])},\n",
       " 'Atlas': {'m': 7e+16,\n",
       "  'x': array([ 1.33298991e+08, -3.24236366e+07,  4.07873932e+06]),\n",
       "  'v': array([ 3718.30673335, 14227.80468593, -7814.33436016])},\n",
       " 'Prometheus': {'m': 1.6e+17,\n",
       "  'x': array([ 87256201.81659403,  92443178.27184716, -56908103.13150598]),\n",
       "  'v': array([-12814.32452808,   9717.62297225,  -3851.28416762])},\n",
       " 'Pandora': {'m': 1.4e+17,\n",
       "  'x': array([ 8.01284573e+07, -1.06342316e+08,  4.79831200e+07]),\n",
       "  'v': array([13388.53842558,  7784.0613837 , -5359.65322238])},\n",
       " 'Pan': {'m': 4950000000000000.0,\n",
       "  'x': array([ 71044067.59764217,  97178666.8633506 , -57798933.43229438]),\n",
       "  'v': array([-14212.06935196,   8582.53033765,  -3120.21438897])},\n",
       " 'Daphnis': {'m': 65000000000000.0,\n",
       "  'x': array([-1.17443122e+08,  6.61685315e+07, -2.32923548e+07]),\n",
       "  'v': array([ -8453.30200319, -12415.77868356,   7324.47310319])}}"
      ]
     },
     "execution_count": 15,
     "metadata": {},
     "output_type": "execute_result"
    }
   ],
   "source": [
    "system"
   ]
  }
 ],
 "metadata": {
  "kernelspec": {
   "display_name": "Python 3",
   "language": "python",
   "name": "python3"
  },
  "language_info": {
   "codemirror_mode": {
    "name": "ipython",
    "version": 3
   },
   "file_extension": ".py",
   "mimetype": "text/x-python",
   "name": "python",
   "nbconvert_exporter": "python",
   "pygments_lexer": "ipython3",
   "version": "3.11.0"
  }
 },
 "nbformat": 4,
 "nbformat_minor": 2
}
