{
 "cells": [
  {
   "cell_type": "code",
   "execution_count": 1,
   "metadata": {},
   "outputs": [
    {
     "name": "stdout",
     "output_type": "stream",
     "text": [
      "[2458075.5]\n"
     ]
    }
   ],
   "source": [
    "from astropy.time import Time\n",
    "jd = Time('2017-11-18').jd  # Converts to Julian date\n",
    "epoch = [jd]\n",
    "print(epoch)"
   ]
  },
  {
   "cell_type": "code",
   "execution_count": 2,
   "metadata": {},
   "outputs": [
    {
     "name": "stderr",
     "output_type": "stream",
     "text": [
      "WARNING: AstropyDeprecationWarning: ``id_type``s 'majorbody' and 'id' are deprecated and replaced with ``None``, which has the same functionality. [astroquery.jplhorizons.core]\n"
     ]
    },
    {
     "name": "stdout",
     "output_type": "stream",
     "text": [
      "Position Vector (x, y, z) in AU relative to Saturn:\n",
      "          x                      y                     z           \n",
      "          AU                     AU                    AU          \n",
      "---------------------- --------------------- ----------------------\n",
      "-0.0007850587805372564 0.0004423093138252596 -0.0001556997748370156\n",
      "\n",
      "Velocity Vector (vx, vy, vz) in AU/day relative to Saturn:\n",
      "          vx                    vy                   vz         \n",
      "        AU / d                AU / d               AU / d       \n",
      "--------------------- --------------------- --------------------\n",
      "-0.004882190432647669 -0.007170712211610213 0.004230237189568186\n"
     ]
    }
   ],
   "source": [
    "from astroquery.jplhorizons import Horizons\n",
    "\n",
    "# Define the parameters\n",
    "# ID for Titan: 606\n",
    "# ID for Saturn as the center of the system: 6\n",
    "# Epoch in Julian date or list of calendar dates\n",
    "target_id = 635\n",
    "center_id = '500@6'  # '@6' indicates the center is Saturn\n",
    "epoch = [2458075.5]  # to calculate julian date see cell above\n",
    "\n",
    "# Query the Horizons database\n",
    "titan = Horizons(id=target_id, location=center_id, epochs=epoch, id_type='id')\n",
    "\n",
    "# Get vector information\n",
    "vectors = titan.vectors()\n",
    "\n",
    "# Extract and display the position and velocity vectors\n",
    "position = vectors[['x', 'y', 'z']]  # x, y, z position relative to Saturn\n",
    "velocity = vectors[['vx', 'vy', 'vz']]  # vx, vy, vz velocity relative to Saturn\n",
    "\n",
    "\n",
    "#print statements\n",
    "print(\"Position Vector (x, y, z) in AU relative to Saturn:\")\n",
    "print(position)\n",
    "\n",
    "print(\"\\nVelocity Vector (vx, vy, vz) in AU/day relative to Saturn:\")\n",
    "print(velocity)\n",
    "\n"
   ]
  },
  {
   "cell_type": "code",
   "execution_count": 39,
   "metadata": {},
   "outputs": [
    {
     "name": "stderr",
     "output_type": "stream",
     "text": [
      "WARNING: AstropyDeprecationWarning: ``id_type``s 'majorbody' and 'id' are deprecated and replaced with ``None``, which has the same functionality. [astroquery.jplhorizons.core]\n"
     ]
    },
    {
     "data": {
      "text/html": [
       "<div><i>Table masked=True length=1</i>\n",
       "<table id=\"table1964290011216\" class=\"table-striped table-bordered table-condensed\">\n",
       "<thead><tr><th>targetname</th><th>datetime_str</th><th>datetime_jd</th><th>solar_presence</th><th>interfering_body</th><th>RA</th><th>DEC</th><th>RA_app</th><th>DEC_app</th><th>RA_rate</th><th>DEC_rate</th><th>AZ</th><th>EL</th><th>AZ_rate</th><th>EL_rate</th><th>sat_X</th><th>sat_Y</th><th>sat_PANG</th><th>siderealtime</th><th>airmass</th><th>magextinct</th><th>V</th><th>surfbright</th><th>illumination</th><th>illum_defect</th><th>sat_sep</th><th>sat_vis</th><th>ang_width</th><th>PDObsLon</th><th>PDObsLat</th><th>PDSunLon</th><th>PDSunLat</th><th>SubSol_ang</th><th>SubSol_dist</th><th>NPole_ang</th><th>NPole_dist</th><th>EclLon</th><th>EclLat</th><th>r</th><th>r_rate</th><th>delta</th><th>delta_rate</th><th>lighttime</th><th>vel_sun</th><th>vel_obs</th><th>elong</th><th>elongFlag</th><th>alpha</th><th>IB_elong</th><th>IB_illum</th><th>sat_alpha</th><th>sunTargetPA</th><th>velocityPA</th><th>OrbPlaneAng</th><th>constellation</th><th>TDB-UT</th><th>ObsEclLon</th><th>ObsEclLat</th><th>NPole_RA</th><th>NPole_DEC</th><th>GlxLon</th><th>GlxLat</th><th>solartime</th><th>earth_lighttime</th><th>RA_3sigma</th><th>DEC_3sigma</th><th>SMAA_3sigma</th><th>SMIA_3sigma</th><th>Theta_3sigma</th><th>Area_3sigma</th><th>RSS_3sigma</th><th>r_3sigma</th><th>r_rate_3sigma</th><th>SBand_3sigma</th><th>XBand_3sigma</th><th>DoppDelay_3sigma</th><th>true_anom</th><th>hour_angle</th><th>alpha_true</th><th>PABLon</th><th>PABLat</th></tr></thead>\n",
       "<thead><tr><th>---</th><th>---</th><th>d</th><th>---</th><th>---</th><th>deg</th><th>deg</th><th>deg</th><th>deg</th><th>arcsec / h</th><th>arcsec / h</th><th>deg</th><th>deg</th><th>arcsec / min</th><th>arcsec / min</th><th>arcsec</th><th>arcsec</th><th>deg</th><th>h</th><th>---</th><th>mag</th><th>mag</th><th>mag / arcsec2</th><th>%</th><th>arcsec</th><th>arcsec</th><th>---</th><th>arcsec</th><th>deg</th><th>deg</th><th>deg</th><th>deg</th><th>deg</th><th>arcsec</th><th>deg</th><th>arcsec</th><th>deg</th><th>deg</th><th>AU</th><th>km / s</th><th>AU</th><th>km / s</th><th>min</th><th>km / s</th><th>km / s</th><th>deg</th><th>---</th><th>deg</th><th>deg</th><th>%</th><th>deg</th><th>deg</th><th>deg</th><th>deg</th><th>---</th><th>s</th><th>deg</th><th>deg</th><th>deg</th><th>deg</th><th>deg</th><th>deg</th><th>h</th><th>min</th><th>arcsec</th><th>arcsec</th><th>arcsec</th><th>arcsec</th><th>deg</th><th>arcsec2</th><th>arcsec</th><th>km</th><th>km / s</th><th>Hz</th><th>Hz</th><th>s</th><th>deg</th><th>h</th><th>deg</th><th>deg</th><th>deg</th></tr></thead>\n",
       "<thead><tr><th>str11</th><th>str24</th><th>float64</th><th>str1</th><th>str1</th><th>float64</th><th>float64</th><th>float64</th><th>float64</th><th>float64</th><th>float64</th><th>int64</th><th>int64</th><th>int64</th><th>int64</th><th>float64</th><th>float64</th><th>float64</th><th>int64</th><th>int64</th><th>int64</th><th>float64</th><th>float64</th><th>float64</th><th>float64</th><th>float64</th><th>str1</th><th>float64</th><th>float64</th><th>float64</th><th>float64</th><th>float64</th><th>float64</th><th>float64</th><th>float64</th><th>float64</th><th>float64</th><th>float64</th><th>float64</th><th>float64</th><th>float64</th><th>float64</th><th>float64</th><th>float64</th><th>float64</th><th>float64</th><th>str2</th><th>float64</th><th>int64</th><th>int64</th><th>float64</th><th>int64</th><th>int64</th><th>float64</th><th>str3</th><th>float64</th><th>float64</th><th>float64</th><th>float64</th><th>float64</th><th>float64</th><th>float64</th><th>int64</th><th>float64</th><th>int64</th><th>int64</th><th>int64</th><th>int64</th><th>int64</th><th>int64</th><th>int64</th><th>int64</th><th>int64</th><th>int64</th><th>int64</th><th>int64</th><th>int64</th><th>int64</th><th>float64</th><th>float64</th><th>float64</th></tr></thead>\n",
       "<tr><td>Titan (606)</td><td>2024-Nov-18 00:00:00.000</td><td>2460632.5</td><td></td><td></td><td>349.79483</td><td>-6.61324</td><td>347.92699</td><td>5.20265</td><td>3.748406</td><td>0.353569</td><td>--</td><td>--</td><td>--</td><td>--</td><td>136.671</td><td>-76.472</td><td>119.226</td><td>--</td><td>999</td><td>--</td><td>8.641</td><td>7.715</td><td>100.0</td><td>1e-10</td><td>156.6132</td><td>*</td><td>0.736652</td><td>112.919431</td><td>2.342809</td><td>112.920595</td><td>2.343586</td><td>84.61</td><td>0.0</td><td>28.3602</td><td>0.368</td><td>348.0291</td><td>-2.0434</td><td>9.639843675675</td><td>-5.4288218</td><td>9.63984367567453</td><td>-5.4288218</td><td>80.17213516</td><td>9.1070237</td><td>9.1070221</td><td>0.0</td><td>/*</td><td>0.0014</td><td>--</td><td>--</td><td>62.098</td><td>--</td><td>--</td><td>0.00352</td><td>Aqr</td><td>69.182801</td><td>348.0291232</td><td>-2.0434133</td><td>39.4827</td><td>83.4279</td><td>71.85249</td><td>-59.98691</td><td>--</td><td>8.220953</td><td>--</td><td>--</td><td>--</td><td>--</td><td>--</td><td>--</td><td>--</td><td>--</td><td>--</td><td>--</td><td>--</td><td>--</td><td>--</td><td>--</td><td>0.0014</td><td>348.0284</td><td>-2.0435</td></tr>\n",
       "</table></div>"
      ],
      "text/plain": [
       "<Table masked=True length=1>\n",
       " targetname       datetime_str       datetime_jd ... alpha_true  PABLon   PABLat\n",
       "    ---               ---                 d      ...    deg       deg      deg  \n",
       "   str11             str24             float64   ...  float64   float64  float64\n",
       "----------- ------------------------ ----------- ... ---------- -------- -------\n",
       "Titan (606) 2024-Nov-18 00:00:00.000   2460632.5 ...     0.0014 348.0284 -2.0435"
      ]
     },
     "execution_count": 39,
     "metadata": {},
     "output_type": "execute_result"
    }
   ],
   "source": [
    "titan = Horizons(id=target_id, epochs=epoch, id_type='id')\n",
    "vectors = titan.vectors()\n",
    "\n",
    "\n",
    "#print(dir(titan.ephemerides()))\n",
    "titan.ephemerides()"
   ]
  },
  {
   "cell_type": "code",
   "execution_count": 42,
   "metadata": {},
   "outputs": [
    {
     "name": "stderr",
     "output_type": "stream",
     "text": [
      "WARNING: AstropyDeprecationWarning: ``id_type``s 'majorbody' and 'id' are deprecated and replaced with ``None``, which has the same functionality. [astroquery.jplhorizons.core]\n"
     ]
    },
    {
     "name": "stdout",
     "output_type": "stream",
     "text": [
      " targetname    datetime_jd    ...         Q                 P        \n",
      "    ---             d         ...         AU                d        \n",
      "----------- ----------------- ... ----------------- -----------------\n",
      "Titan (606) 2460633.296177491 ... 11.56007129727006 6760.583737696138\n"
     ]
    }
   ],
   "source": [
    "from astroquery.jplhorizons import Horizons\n",
    "\n",
    "# Create a Horizons object for Titan\n",
    "# Target ID for Titan is 606 (use '606' or the name 'Titan')\n",
    "obj = Horizons(id='606', location='@sun', epochs=None, id_type='majorbody')\n",
    "\n",
    "# Query physical and orbital parameters\n",
    "info = obj.vectors()\n",
    "elements = obj.elements()\n",
    "\n"
   ]
  },
  {
   "cell_type": "code",
   "execution_count": 43,
   "metadata": {},
   "outputs": [
    {
     "data": {
      "text/html": [
       "<div><i>Table masked=True length=1</i>\n",
       "<table id=\"table1964289856976\" class=\"table-striped table-bordered table-condensed\">\n",
       "<thead><tr><th>targetname</th><th>datetime_jd</th><th>datetime_str</th><th>e</th><th>q</th><th>incl</th><th>Omega</th><th>w</th><th>Tp_jd</th><th>n</th><th>M</th><th>nu</th><th>a</th><th>Q</th><th>P</th></tr></thead>\n",
       "<thead><tr><th>---</th><th>d</th><th>---</th><th>---</th><th>AU</th><th>deg</th><th>deg</th><th>deg</th><th>d</th><th>deg / d</th><th>deg</th><th>deg</th><th>AU</th><th>AU</th><th>d</th></tr></thead>\n",
       "<thead><tr><th>str11</th><th>float64</th><th>str30</th><th>float64</th><th>float64</th><th>float64</th><th>float64</th><th>float64</th><th>float64</th><th>float64</th><th>float64</th><th>float64</th><th>float64</th><th>float64</th><th>float64</th></tr></thead>\n",
       "<tr><td>Titan (606)</td><td>2460633.296177491</td><td>A.D. 2024-Nov-18 19:06:29.7352</td><td>0.6521012373799148</td><td>2.434314804157119</td><td>13.47047212376367</td><td>356.6013413203934</td><td>144.5338776983842</td><td>2462415.12093</td><td>0.05324983965403558</td><td>265.1181176372979</td><td>206.6750599676032</td><td>6.99719305071359</td><td>11.56007129727006</td><td>6760.583737696138</td></tr>\n",
       "</table></div>"
      ],
      "text/plain": [
       "<Table masked=True length=1>\n",
       " targetname    datetime_jd    ...         Q                 P        \n",
       "    ---             d         ...         AU                d        \n",
       "   str11         float64      ...      float64           float64     \n",
       "----------- ----------------- ... ----------------- -----------------\n",
       "Titan (606) 2460633.296177491 ... 11.56007129727006 6760.583737696138"
      ]
     },
     "execution_count": 43,
     "metadata": {},
     "output_type": "execute_result"
    }
   ],
   "source": [
    "elements"
   ]
  },
  {
   "cell_type": "code",
   "execution_count": 15,
   "metadata": {},
   "outputs": [],
   "source": [
    "saturn_moons_ids = {\n",
    "    \"Mimas\": 601,\n",
    "    \"Enceladus\": 602,\n",
    "    \"Tethys\": 603,\n",
    "    \"Dione\": 604,\n",
    "    \"Rhea\": 605,\n",
    "    \"Titan\": 606,\n",
    "    \"Hyperion\": 607,\n",
    "    \"Iapetus\": 608,\n",
    "    \"Phoebe\": 609,\n",
    "    \"Janus\": 610,\n",
    "    \"Epimetheus\": 611,\n",
    "    \"Helene\": 612,\n",
    "    \"Telesto\": 613,\n",
    "    \"Calypso\": 614,\n",
    "    \"Atlas\": 615,\n",
    "    \"Prometheus\": 616,\n",
    "    \"Pandora\": 617,\n",
    "    \"Pan\": 618\n",
    "}\n"
   ]
  },
  {
   "cell_type": "code",
   "execution_count": 45,
   "metadata": {},
   "outputs": [
    {
     "name": "stderr",
     "output_type": "stream",
     "text": [
      "WARNING: AstropyDeprecationWarning: ``id_type``s 'majorbody' and 'id' are deprecated and replaced with ``None``, which has the same functionality. [astroquery.jplhorizons.core]\n",
      "WARNING: AstropyDeprecationWarning: ``id_type``s 'majorbody' and 'id' are deprecated and replaced with ``None``, which has the same functionality. [astroquery.jplhorizons.core]\n",
      "WARNING: AstropyDeprecationWarning: ``id_type``s 'majorbody' and 'id' are deprecated and replaced with ``None``, which has the same functionality. [astroquery.jplhorizons.core]\n",
      "WARNING: AstropyDeprecationWarning: ``id_type``s 'majorbody' and 'id' are deprecated and replaced with ``None``, which has the same functionality. [astroquery.jplhorizons.core]\n",
      "WARNING: AstropyDeprecationWarning: ``id_type``s 'majorbody' and 'id' are deprecated and replaced with ``None``, which has the same functionality. [astroquery.jplhorizons.core]\n",
      "WARNING: AstropyDeprecationWarning: ``id_type``s 'majorbody' and 'id' are deprecated and replaced with ``None``, which has the same functionality. [astroquery.jplhorizons.core]\n",
      "WARNING: AstropyDeprecationWarning: ``id_type``s 'majorbody' and 'id' are deprecated and replaced with ``None``, which has the same functionality. [astroquery.jplhorizons.core]\n",
      "WARNING: AstropyDeprecationWarning: ``id_type``s 'majorbody' and 'id' are deprecated and replaced with ``None``, which has the same functionality. [astroquery.jplhorizons.core]\n",
      "WARNING: AstropyDeprecationWarning: ``id_type``s 'majorbody' and 'id' are deprecated and replaced with ``None``, which has the same functionality. [astroquery.jplhorizons.core]\n",
      "WARNING: AstropyDeprecationWarning: ``id_type``s 'majorbody' and 'id' are deprecated and replaced with ``None``, which has the same functionality. [astroquery.jplhorizons.core]\n",
      "WARNING: AstropyDeprecationWarning: ``id_type``s 'majorbody' and 'id' are deprecated and replaced with ``None``, which has the same functionality. [astroquery.jplhorizons.core]\n",
      "WARNING: AstropyDeprecationWarning: ``id_type``s 'majorbody' and 'id' are deprecated and replaced with ``None``, which has the same functionality. [astroquery.jplhorizons.core]\n",
      "WARNING: AstropyDeprecationWarning: ``id_type``s 'majorbody' and 'id' are deprecated and replaced with ``None``, which has the same functionality. [astroquery.jplhorizons.core]\n",
      "WARNING: AstropyDeprecationWarning: ``id_type``s 'majorbody' and 'id' are deprecated and replaced with ``None``, which has the same functionality. [astroquery.jplhorizons.core]\n",
      "WARNING: AstropyDeprecationWarning: ``id_type``s 'majorbody' and 'id' are deprecated and replaced with ``None``, which has the same functionality. [astroquery.jplhorizons.core]\n",
      "WARNING: AstropyDeprecationWarning: ``id_type``s 'majorbody' and 'id' are deprecated and replaced with ``None``, which has the same functionality. [astroquery.jplhorizons.core]\n",
      "WARNING: AstropyDeprecationWarning: ``id_type``s 'majorbody' and 'id' are deprecated and replaced with ``None``, which has the same functionality. [astroquery.jplhorizons.core]\n",
      "WARNING: AstropyDeprecationWarning: ``id_type``s 'majorbody' and 'id' are deprecated and replaced with ``None``, which has the same functionality. [astroquery.jplhorizons.core]\n"
     ]
    },
    {
     "name": "stdout",
     "output_type": "stream",
     "text": [
      "Mimas:\n",
      "  Position (r): {'x': -0.001028864819791421, 'y': 0.0006603768787969255, 'z': -0.0002842842332701789}\n",
      "  Velocity (v): {'vx': -0.004743822586980972, 'vy': -0.005652360479517531, 'vz': 0.003479565818489741}\n",
      "\n",
      "Enceladus:\n",
      "  Position (r): {'x': 0.001570702883799815, 'y': 0.0001561856361024074, 'z': -0.000233850560439507}\n",
      "  Velocity (v): {'vx': -0.00115709830799015, 'vy': 0.006409664101611489, 'vz': -0.003245728980569385}\n",
      "\n",
      "Tethys:\n",
      "  Position (r): {'x': -0.0007210984767747834, 'y': -0.001606456572822791, 'z': 0.0008866730015396321}\n",
      "  Velocity (v): {'vx': 0.006068085111733429, 'vy': -0.002417043509830783, 'vz': 0.0005636920783501447}\n",
      "\n",
      "Dione:\n",
      "  Position (r): {'x': 0.0007961618789297998, 'y': 0.002082861716496034, 'z': -0.001167378772233903}\n",
      "  Velocity (v): {'vx': -0.005478700965153795, 'vy': 0.00185535275473159, 'vz': -0.0004398594668345293}\n",
      "\n",
      "Rhea:\n",
      "  Position (r): {'x': 0.002423345450884889, 'y': 0.002160287653613478, 'z': -0.001363669302795878}\n",
      "  Velocity (v): {'vx': -0.003531959234621147, 'vy': 0.003128456112057658, 'vz': -0.001326784816240979}\n",
      "\n",
      "Titan:\n",
      "  Position (r): {'x': -0.002743182412736859, 'y': 0.007055486533775177, 'z': -0.003365600075106132}\n",
      "  Velocity (v): {'vx': -0.003004327804185247, 'vy': -0.0007487602854820881, 'vz': 0.000685352748411595}\n",
      "\n",
      "Hyperion:\n",
      "  Position (r): {'x': -0.001942191953182398, 'y': 0.009756401540527006, 'z': -0.004712934106856713}\n",
      "  Velocity (v): {'vx': -0.002556971060777196, 'vy': -0.0003570827684299674, 'vz': 0.0004192313287287034}\n",
      "\n",
      "Iapetus:\n",
      "  Position (r): {'x': 0.01155820529309057, 'y': 0.01911840008584179, 'z': -0.006739979724793801}\n",
      "  Velocity (v): {'vx': -0.001608317117954236, 'vy': 0.001050218441360834, 'vz': 8.13781198885411e-05}\n",
      "\n",
      "Phoebe:\n",
      "  Position (r): {'x': 0.07447565403020666, 'y': 0.0619789648515685, 'z': -0.009370297744199492}\n",
      "  Velocity (v): {'vx': 0.000458789198953241, 'vy': -0.0007383344310993475, 'vz': -5.728089349015962e-05}\n",
      "\n",
      "Janus:\n",
      "  Position (r): {'x': -0.000985757340868391, 'y': 0.0002162732654808201, 'z': -1.477806168486244e-05}\n",
      "  Velocity (v): {'vx': -0.001755185123742173, 'vy': -0.007911725035059186, 'vz': 0.004304631030921846}\n",
      "\n",
      "Epimetheus:\n",
      "  Position (r): {'x': 8.772951499255995e-05, 'y': -0.0008968585661200452, 'z': 0.0004614181608303623}\n",
      "  Velocity (v): {'vx': 0.009096940124676376, 'vy': 0.0003899242650068129, 'vz': -0.00114998924150136}\n",
      "\n",
      "Helene:\n",
      "  Position (r): {'x': -0.001912426166944635, 'y': 0.001530796853379023, 'z': -0.0006270403623064016}\n",
      "  Velocity (v): {'vx': -0.003781836898723744, 'vy': -0.003709243112929055, 'vz': 0.002301540000768455}\n",
      "\n",
      "Telesto:\n",
      "  Position (r): {'x': 0.001187765703402476, 'y': -0.001452178540821988, 'z': 0.0006082069143057168}\n",
      "  Velocity (v): {'vx': 0.005200919665288691, 'vy': 0.003348163507370077, 'vz': -0.002169984584283033}\n",
      "\n",
      "Calypso:\n",
      "  Position (r): {'x': -0.001923308832064321, 'y': -0.0002233802727114526, 'z': 0.0003602178841318106}\n",
      "  Velocity (v): {'vx': 0.001197897447865876, 'vy': -0.005773788115203776, 'vz': 0.002864810109369237}\n",
      "\n",
      "Atlas:\n",
      "  Position (r): {'x': -0.0004653144804114374, 'y': -0.0006859213406928697, 'z': 0.0004044799342155863}\n",
      "  Velocity (v): {'vx': 0.008237838147648982, 'vy': -0.004654028411781043, 'vz': 0.001641043269556796}\n",
      "\n",
      "Prometheus:\n",
      "  Position (r): {'x': -0.0009255298967400379, 'y': -4.277787620329286e-05, 'z': 0.0001119949718835603}\n",
      "  Velocity (v): {'vx': 0.000900713134457459, 'vy': -0.008439037361385142, 'vz': 0.004333266869621769}\n",
      "\n",
      "Pandora:\n",
      "  Position (r): {'x': 0.000194806470350764, 'y': 0.0008136503900190649, 'z': -0.0004461682656477497}\n",
      "  Velocity (v): {'vx': -0.00921390374427999, 'vy': 0.002059052215944228, 'vz': -0.000184641266157568}\n",
      "\n",
      "Pan:\n",
      "  Position (r): {'x': -0.0001424257905256442, 'y': -0.0007767092554332113, 'z': 0.0004207540185977648}\n",
      "  Velocity (v): {'vx': 0.00959532701400712, 'vy': -0.001771264895473296, 'vz': -1.500828413268378e-06}\n",
      "\n"
     ]
    }
   ],
   "source": [
    "from astroquery.jplhorizons import Horizons\n",
    "\n",
    "def get_saturn_moons_vectors(saturn_moons_ids, epoch):\n",
    "    \"\"\"\n",
    "    Get position and velocity vectors for Saturn's moons relative to Saturn.\n",
    "    \n",
    "    Parameters:\n",
    "        saturn_moons_ids (dict): Dictionary of moon names and their Horizons IDs.\n",
    "        epoch (list): Julian date(s) or list of calendar dates to query.\n",
    "        \n",
    "    Returns:\n",
    "        dict: Nested dictionary with moon names as keys and position/velocity vectors as values.\n",
    "    \"\"\"\n",
    "    results = {}\n",
    "    center_id = '500@6'  # Center of the system is Saturn\n",
    "    \n",
    "    for moon, target_id in saturn_moons_ids.items():\n",
    "        # Query the Horizons database for each moon\n",
    "        moon_data = Horizons(id=target_id, location=center_id, epochs=epoch, id_type='id')\n",
    "        vectors = moon_data.vectors()\n",
    "        \n",
    "        # Extract position and velocity vectors\n",
    "        position = {\n",
    "            \"x\": vectors['x'][0],\n",
    "            \"y\": vectors['y'][0],\n",
    "            \"z\": vectors['z'][0]\n",
    "        }\n",
    "        velocity = {\n",
    "            \"vx\": vectors['vx'][0],\n",
    "            \"vy\": vectors['vy'][0],\n",
    "            \"vz\": vectors['vz'][0]\n",
    "        }\n",
    "        \n",
    "        # Add to the results dictionary\n",
    "        results[moon] = {\n",
    "            \"r\": position,\n",
    "            \"v\": velocity\n",
    "        }\n",
    "    \n",
    "    return results\n",
    "\n",
    "# Example usage\n",
    "saturn_moons_ids = {\n",
    "    \"Mimas\": 601,\n",
    "    \"Enceladus\": 602,\n",
    "    \"Tethys\": 603,\n",
    "    \"Dione\": 604,\n",
    "    \"Rhea\": 605,\n",
    "    \"Titan\": 606,\n",
    "    \"Hyperion\": 607,\n",
    "    \"Iapetus\": 608,\n",
    "    \"Phoebe\": 609,\n",
    "    \"Janus\": 610,\n",
    "    \"Epimetheus\": 611,\n",
    "    \"Helene\": 612,\n",
    "    \"Telesto\": 613,\n",
    "    \"Calypso\": 614,\n",
    "    \"Atlas\": 615,\n",
    "    \"Prometheus\": 616,\n",
    "    \"Pandora\": 617,\n",
    "    \"Pan\": 618\n",
    "}\n",
    "\n",
    "epoch = [2460632.5]  # Replace with your desired Julian date(s)\n",
    "moon_vectors = get_saturn_moons_vectors(saturn_moons_ids, epoch)\n",
    "\n",
    "# Print the results\n",
    "for moon, data in moon_vectors.items():\n",
    "    print(f\"{moon}:\")\n",
    "    print(f\"  Position (r): {data['r']}\")\n",
    "    print(f\"  Velocity (v): {data['v']}\")\n",
    "    print()\n"
   ]
  },
  {
   "cell_type": "code",
   "execution_count": 47,
   "metadata": {},
   "outputs": [],
   "source": [
    "saturn_moons_masses = {\n",
    "    \"Mimas\": 3.7493e19,       # kg\n",
    "    \"Enceladus\": 1.08022e20,  # kg\n",
    "    \"Tethys\": 6.17449e20,     # kg\n",
    "    \"Dione\": 1.095452e21,     # kg\n",
    "    \"Rhea\": 2.306518e21,      # kg\n",
    "    \"Titan\": 1.3452e23,       # kg\n",
    "    \"Hyperion\": 5.62e18,      # kg\n",
    "    \"Iapetus\": 1.805635e21,   # kg\n",
    "    \"Phoebe\": 8.292e18,       # kg\n",
    "    \"Janus\": 1.898e18,        # kg\n",
    "    \"Epimetheus\": 5.264e17,   # kg\n",
    "    \"Helene\": 1.2e17,         # kg (approximate)\n",
    "    \"Telesto\": 4.1e16,        # kg (approximate)\n",
    "    \"Calypso\": 4.0e16,        # kg (approximate)\n",
    "    \"Atlas\": 7.0e16,          # kg (approximate)\n",
    "    \"Prometheus\": 1.6e17,     # kg\n",
    "    \"Pandora\": 1.4e17,        # kg\n",
    "    \"Pan\": 4.95e15            # kg\n",
    "}\n"
   ]
  },
  {
   "cell_type": "markdown",
   "metadata": {},
   "source": []
  },
  {
   "cell_type": "code",
   "execution_count": null,
   "metadata": {},
   "outputs": [],
   "source": []
  },
  {
   "cell_type": "code",
   "execution_count": 46,
   "metadata": {},
   "outputs": [
    {
     "name": "stdout",
     "output_type": "stream",
     "text": [
      "{'Mimas': {'r': {'x': -0.001028864819791421, 'y': 0.0006603768787969255, 'z': -0.0002842842332701789}, 'v': {'vx': -0.004743822586980972, 'vy': -0.005652360479517531, 'vz': 0.003479565818489741}}, 'Enceladus': {'r': {'x': 0.001570702883799815, 'y': 0.0001561856361024074, 'z': -0.000233850560439507}, 'v': {'vx': -0.00115709830799015, 'vy': 0.006409664101611489, 'vz': -0.003245728980569385}}, 'Tethys': {'r': {'x': -0.0007210984767747834, 'y': -0.001606456572822791, 'z': 0.0008866730015396321}, 'v': {'vx': 0.006068085111733429, 'vy': -0.002417043509830783, 'vz': 0.0005636920783501447}}, 'Dione': {'r': {'x': 0.0007961618789297998, 'y': 0.002082861716496034, 'z': -0.001167378772233903}, 'v': {'vx': -0.005478700965153795, 'vy': 0.00185535275473159, 'vz': -0.0004398594668345293}}, 'Rhea': {'r': {'x': 0.002423345450884889, 'y': 0.002160287653613478, 'z': -0.001363669302795878}, 'v': {'vx': -0.003531959234621147, 'vy': 0.003128456112057658, 'vz': -0.001326784816240979}}, 'Titan': {'r': {'x': -0.002743182412736859, 'y': 0.007055486533775177, 'z': -0.003365600075106132}, 'v': {'vx': -0.003004327804185247, 'vy': -0.0007487602854820881, 'vz': 0.000685352748411595}}, 'Hyperion': {'r': {'x': -0.001942191953182398, 'y': 0.009756401540527006, 'z': -0.004712934106856713}, 'v': {'vx': -0.002556971060777196, 'vy': -0.0003570827684299674, 'vz': 0.0004192313287287034}}, 'Iapetus': {'r': {'x': 0.01155820529309057, 'y': 0.01911840008584179, 'z': -0.006739979724793801}, 'v': {'vx': -0.001608317117954236, 'vy': 0.001050218441360834, 'vz': 8.13781198885411e-05}}, 'Phoebe': {'r': {'x': 0.07447565403020666, 'y': 0.0619789648515685, 'z': -0.009370297744199492}, 'v': {'vx': 0.000458789198953241, 'vy': -0.0007383344310993475, 'vz': -5.728089349015962e-05}}, 'Janus': {'r': {'x': -0.000985757340868391, 'y': 0.0002162732654808201, 'z': -1.477806168486244e-05}, 'v': {'vx': -0.001755185123742173, 'vy': -0.007911725035059186, 'vz': 0.004304631030921846}}, 'Epimetheus': {'r': {'x': 8.772951499255995e-05, 'y': -0.0008968585661200452, 'z': 0.0004614181608303623}, 'v': {'vx': 0.009096940124676376, 'vy': 0.0003899242650068129, 'vz': -0.00114998924150136}}, 'Helene': {'r': {'x': -0.001912426166944635, 'y': 0.001530796853379023, 'z': -0.0006270403623064016}, 'v': {'vx': -0.003781836898723744, 'vy': -0.003709243112929055, 'vz': 0.002301540000768455}}, 'Telesto': {'r': {'x': 0.001187765703402476, 'y': -0.001452178540821988, 'z': 0.0006082069143057168}, 'v': {'vx': 0.005200919665288691, 'vy': 0.003348163507370077, 'vz': -0.002169984584283033}}, 'Calypso': {'r': {'x': -0.001923308832064321, 'y': -0.0002233802727114526, 'z': 0.0003602178841318106}, 'v': {'vx': 0.001197897447865876, 'vy': -0.005773788115203776, 'vz': 0.002864810109369237}}, 'Atlas': {'r': {'x': -0.0004653144804114374, 'y': -0.0006859213406928697, 'z': 0.0004044799342155863}, 'v': {'vx': 0.008237838147648982, 'vy': -0.004654028411781043, 'vz': 0.001641043269556796}}, 'Prometheus': {'r': {'x': -0.0009255298967400379, 'y': -4.277787620329286e-05, 'z': 0.0001119949718835603}, 'v': {'vx': 0.000900713134457459, 'vy': -0.008439037361385142, 'vz': 0.004333266869621769}}, 'Pandora': {'r': {'x': 0.000194806470350764, 'y': 0.0008136503900190649, 'z': -0.0004461682656477497}, 'v': {'vx': -0.00921390374427999, 'vy': 0.002059052215944228, 'vz': -0.000184641266157568}}, 'Pan': {'r': {'x': -0.0001424257905256442, 'y': -0.0007767092554332113, 'z': 0.0004207540185977648}, 'v': {'vx': 0.00959532701400712, 'vy': -0.001771264895473296, 'vz': -1.500828413268378e-06}}}\n"
     ]
    }
   ],
   "source": [
    "print(moon_vectors)"
   ]
  }
 ],
 "metadata": {
  "kernelspec": {
   "display_name": "Python 3",
   "language": "python",
   "name": "python3"
  },
  "language_info": {
   "codemirror_mode": {
    "name": "ipython",
    "version": 3
   },
   "file_extension": ".py",
   "mimetype": "text/x-python",
   "name": "python",
   "nbconvert_exporter": "python",
   "pygments_lexer": "ipython3",
   "version": "3.11.0"
  }
 },
 "nbformat": 4,
 "nbformat_minor": 2
}
