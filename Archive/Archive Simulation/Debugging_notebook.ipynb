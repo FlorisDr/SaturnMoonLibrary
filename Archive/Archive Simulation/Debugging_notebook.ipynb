{
 "cells": [
  {
   "cell_type": "code",
   "execution_count": 1,
   "metadata": {},
   "outputs": [],
   "source": [
    "import simulation"
   ]
  },
  {
   "cell_type": "code",
   "execution_count": 2,
   "metadata": {},
   "outputs": [],
   "source": [
    "# Create a list of Body objects\n",
    "bodies = [\n",
    "    simulation.Body(\"Body1\", 1.0, [0.0, 0.0, 0.0], [0.0, 0.0, 0.0], False),\n",
    "    simulation.Body(\"Body2\", 2.0, [1.0, 1.0, 1.0], [0.1, 0.1, 0.1], False),\n",
    "    # Add more bodies as needed\n",
    "]\n"
   ]
  },
  {
   "cell_type": "code",
   "execution_count": 4,
   "metadata": {},
   "outputs": [
    {
     "data": {
      "text/plain": [
       "[<simulation.Body at 0x271072dbf70>, <simulation.Body at 0x27107416630>]"
      ]
     },
     "execution_count": 4,
     "metadata": {},
     "output_type": "execute_result"
    }
   ],
   "source": [
    "bodies"
   ]
  },
  {
   "cell_type": "code",
   "execution_count": 3,
   "metadata": {},
   "outputs": [],
   "source": [
    "\n",
    "# Define other parameters\n",
    "dt = 600.0\n",
    "timesteps = 10\n",
    "num_test_particles = 1\n",
    "saved_points_modularity = 1\n",
    "skipped_timesteps = 0\n",
    "output_filename = \".\\simulation_test.bin\"\n",
    "\n",
    "# Call the run_simulation function\n",
    "simulation.run_simulation(\n",
    "    dt,\n",
    "    timesteps,\n",
    "    num_test_particles,\n",
    "    saved_points_modularity,\n",
    "    skipped_timesteps,\n",
    "    bodies,\n",
    "    output_filename,\n",
    ")"
   ]
  }
 ],
 "metadata": {
  "kernelspec": {
   "display_name": "Python 3",
   "language": "python",
   "name": "python3"
  },
  "language_info": {
   "codemirror_mode": {
    "name": "ipython",
    "version": 3
   },
   "file_extension": ".py",
   "mimetype": "text/x-python",
   "name": "python",
   "nbconvert_exporter": "python",
   "pygments_lexer": "ipython3",
   "version": "3.11.0"
  }
 },
 "nbformat": 4,
 "nbformat_minor": 2
}
